{
  "nbformat": 4,
  "nbformat_minor": 0,
  "metadata": {
    "colab": {
      "provenance": [],
      "authorship_tag": "ABX9TyMcCiicAgeFPYjH74xs+Of3",
      "include_colab_link": true
    },
    "kernelspec": {
      "name": "python3",
      "display_name": "Python 3"
    },
    "language_info": {
      "name": "python"
    }
  },
  "cells": [
    {
      "cell_type": "markdown",
      "metadata": {
        "id": "view-in-github",
        "colab_type": "text"
      },
      "source": [
        "<a href=\"https://colab.research.google.com/github/carloslme/data_structures_and_algorithms/blob/main/python_basic_data_types.ipynb\" target=\"_parent\"><img src=\"https://colab.research.google.com/assets/colab-badge.svg\" alt=\"Open In Colab\"/></a>"
      ]
    },
    {
      "cell_type": "markdown",
      "source": [
        "# Find the Runner-Up Score!\n",
        "Given the participants' score sheet for your University Sports Day, you are required to find the runner-up score. You are given *n* scores. Store them in a list and find the score of the runner-up.\n",
        "\n",
        "The first line contains *n*. The second line contains an array `A[]` of `n` integers each separated by a space.\n",
        "\n",
        "Sample input:\n",
        "````bash\n",
        "5\n",
        "2 3 6 6 5\n",
        "````\n",
        "\n",
        "Sample output:\n",
        "````bash\n",
        "5\n",
        "````"
      ],
      "metadata": {
        "id": "ApWowAqfOz6G"
      }
    },
    {
      "cell_type": "code",
      "execution_count": 65,
      "metadata": {
        "id": "UBsSwY_4OrbR"
      },
      "outputs": [],
      "source": [
        "n = 5\n",
        "#numbers = [2, 3, 6, 6, 5]\n",
        "numbers = [57, 57, -57, 57]\n",
        "arr = map(int, numbers)"
      ]
    },
    {
      "cell_type": "code",
      "source": [
        "# Solution 1\n",
        "new_list = []\n",
        "for x in list(arr):\n",
        "  if x not in new_list:\n",
        "    new_list.append(x)\n",
        "new_list.sort()\n",
        "print(new_list[-2])"
      ],
      "metadata": {
        "colab": {
          "base_uri": "https://localhost:8080/"
        },
        "id": "jxK4FHw5lRdZ",
        "outputId": "830253cf-01c3-4fcb-d159-a2021e939371"
      },
      "execution_count": 36,
      "outputs": [
        {
          "output_type": "stream",
          "name": "stdout",
          "text": [
            "5\n",
            "[]\n"
          ]
        }
      ]
    },
    {
      "cell_type": "code",
      "source": [
        "# Solution 1.1 - List comprehension\n",
        "arr = list(set([x for x in list(arr)]))\n",
        "arr.sort()\n",
        "print(arr[-2])"
      ],
      "metadata": {
        "colab": {
          "base_uri": "https://localhost:8080/"
        },
        "id": "bhzIsO36nsaB",
        "outputId": "25fa1e47-96ea-4156-92aa-fe94b482e115"
      },
      "execution_count": 64,
      "outputs": [
        {
          "output_type": "stream",
          "name": "stdout",
          "text": [
            "-57\n"
          ]
        }
      ]
    },
    {
      "cell_type": "code",
      "source": [
        "# Solution 2\n",
        "lst = list(set(list(arr)))\n",
        "lst.sort()\n",
        "lst[-2]"
      ],
      "metadata": {
        "colab": {
          "base_uri": "https://localhost:8080/"
        },
        "id": "_1_KnfZNmRUy",
        "outputId": "83198b68-e4b3-430b-ecf8-44261e53eee8"
      },
      "execution_count": 66,
      "outputs": [
        {
          "output_type": "execute_result",
          "data": {
            "text/plain": [
              "-57"
            ]
          },
          "metadata": {},
          "execution_count": 66
        }
      ]
    },
    {
      "cell_type": "code",
      "source": [
        "numbers = [-10, 0, 10]\n",
        "arr = map(int, numbers)\n",
        "sorted_arr = list(set(list(arr)))\n",
        "sorted_arr.sort()\n",
        "sorted_arr[-2]\n"
      ],
      "metadata": {
        "colab": {
          "base_uri": "https://localhost:8080/"
        },
        "id": "ObwHIAWDpnCS",
        "outputId": "5433e405-8127-46b8-8047-40c46fb70144"
      },
      "execution_count": 53,
      "outputs": [
        {
          "output_type": "execute_result",
          "data": {
            "text/plain": [
              "0"
            ]
          },
          "metadata": {},
          "execution_count": 53
        }
      ]
    },
    {
      "cell_type": "code",
      "source": [
        "# Solution 3\n",
        "lst = list(arr)\n",
        "lst.sort()\n",
        "print(list(dict.fromkeys(lst))[-2])"
      ],
      "metadata": {
        "colab": {
          "base_uri": "https://localhost:8080/"
        },
        "id": "iAX2LbW_PenK",
        "outputId": "17efe2d0-b1e8-4687-d591-bd4fdb847917"
      },
      "execution_count": 18,
      "outputs": [
        {
          "output_type": "stream",
          "name": "stdout",
          "text": [
            "5\n"
          ]
        }
      ]
    },
    {
      "cell_type": "code",
      "source": [],
      "metadata": {
        "id": "kbUy70Y1Xe9K"
      },
      "execution_count": null,
      "outputs": []
    }
  ]
}