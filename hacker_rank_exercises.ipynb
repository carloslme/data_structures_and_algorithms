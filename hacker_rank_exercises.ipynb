{
  "nbformat": 4,
  "nbformat_minor": 0,
  "metadata": {
    "colab": {
      "name": "hacker_rank_exercises.ipynb",
      "provenance": [],
      "authorship_tag": "ABX9TyOo6cqyL61D4yw5ASyxhHIQ",
      "include_colab_link": true
    },
    "kernelspec": {
      "name": "python3",
      "display_name": "Python 3"
    },
    "language_info": {
      "name": "python"
    }
  },
  "cells": [
    {
      "cell_type": "markdown",
      "metadata": {
        "id": "view-in-github",
        "colab_type": "text"
      },
      "source": [
        "<a href=\"https://colab.research.google.com/github/carloslme/data_structures_and_algorithms/blob/main/hacker_rank_exercises.ipynb\" target=\"_parent\"><img src=\"https://colab.research.google.com/assets/colab-badge.svg\" alt=\"Open In Colab\"/></a>"
      ]
    },
    {
      "cell_type": "markdown",
      "metadata": {
        "id": "4XpSkJzyL9r5"
      },
      "source": [
        "# HackerRank Exercises"
      ]
    },
    {
      "cell_type": "markdown",
      "metadata": {
        "id": "LslgMTQ2ZiGr"
      },
      "source": [
        "## Python"
      ]
    },
    {
      "cell_type": "markdown",
      "metadata": {
        "id": "d8GAJgkkMBKw"
      },
      "source": [
        "### Python If-Else\n",
        "**Task**\n",
        "\n",
        "Given an integer, , perform the following conditional actions:\n",
        "\n",
        "* If  is odd, print Weird\n",
        "* If  is even and in the inclusive range of  to , print Not Weird\n",
        "* If  is even and in the inclusive range of  to , print Weird\n",
        "* If  is even and greater than , print Not Weird\n",
        "\n",
        "\n",
        "**Input Format**\n",
        "\n",
        "A single line containing a positive integer, .\n",
        "\n",
        "**Constraints**\n",
        "\n",
        "$1 <= n <= 100$\n",
        "\n",
        "**Output Format**\n",
        "\n",
        "Print Weird if the number is weird. Otherwise, print Not Weird."
      ]
    },
    {
      "cell_type": "code",
      "metadata": {
        "id": "o4n5h5MfL6kW"
      },
      "source": [
        "import math\n",
        "import os\n",
        "import random\n",
        "import re\n",
        "import sys\n",
        "\n",
        "\n",
        "\n",
        "if __name__ == '__main__':\n",
        "    n = int(input().strip())\n",
        "\n",
        "if n % 2 == 0:\n",
        "    if n in range(2, 6):\n",
        "        print('Not Weird')\n",
        "    elif n in range(6, 21):\n",
        "        print('Weird')\n",
        "    elif n > 20:\n",
        "        print('Not Weird')\n",
        "else:\n",
        "    print('Weird') "
      ],
      "execution_count": null,
      "outputs": []
    },
    {
      "cell_type": "markdown",
      "metadata": {
        "id": "XUESEsGBZk2Y"
      },
      "source": [
        "## Data Structures"
      ]
    },
    {
      "cell_type": "markdown",
      "metadata": {
        "id": "mOJznJK-Z66C"
      },
      "source": [
        "## Arrays - DS (Reverse an array of integers)\n"
      ]
    },
    {
      "cell_type": "code",
      "metadata": {
        "id": "pwG-Fis5Znm5"
      },
      "source": [
        "# OPTION 1\n",
        "#!/bin/python3\n",
        "\n",
        "import math\n",
        "import os\n",
        "import random\n",
        "import re\n",
        "import sys\n",
        "\n",
        "# Complete the reverseArray function below.\n",
        "def reverseArray(a):\n",
        "    '''aux = [] \n",
        "    for i in reversed(range(len(a))):\n",
        "        aux.append(arr[i])\n",
        "    return aux''' \n",
        "\n",
        "if __name__ == '__main__':\n",
        "    fptr = open(os.environ['OUTPUT_PATH'], 'w')\n",
        "\n",
        "    arr_count = int(input())\n",
        "\n",
        "    arr = list(map(int, input().rstrip().split()))\n",
        "\n",
        "    res = reverseArray(arr)\n",
        "\n",
        "    fptr.write(' '.join(map(str, res)))\n",
        "    fptr.write('\\n')\n",
        "\n",
        "    fptr.close()\n"
      ],
      "execution_count": null,
      "outputs": []
    },
    {
      "cell_type": "code",
      "metadata": {
        "id": "E0zATb53iMRJ"
      },
      "source": [
        "#!/bin/python3\n",
        "\n",
        "import math\n",
        "import os\n",
        "import random\n",
        "import re\n",
        "import sys\n",
        "\n",
        "# Complete the reverseArray function below.\n",
        "def reverseArray(a):\n",
        "    return a[::-1]\n",
        "\n",
        "if __name__ == '__main__':\n",
        "    fptr = open(os.environ['OUTPUT_PATH'], 'w')\n",
        "\n",
        "    arr_count = int(input())\n",
        "\n",
        "    arr = list(map(int, input().rstrip().split()))\n",
        "\n",
        "    res = reverseArray(arr)\n",
        "\n",
        "    fptr.write(' '.join(map(str, res)))\n",
        "    fptr.write('\\n')\n",
        "\n",
        "    fptr.close()\n"
      ],
      "execution_count": null,
      "outputs": []
    },
    {
      "cell_type": "markdown",
      "metadata": {
        "id": "nv32GLp_p9Kn"
      },
      "source": [
        "## 2D Array - Hourglass sum\n"
      ]
    },
    {
      "cell_type": "code",
      "metadata": {
        "colab": {
          "base_uri": "https://localhost:8080/"
        },
        "id": "EkRIFnEKqFew",
        "outputId": "95bedd8b-d811-4463-89b1-8083c36b45bb"
      },
      "source": [
        "#!/bin/python3\n",
        "\n",
        "import math\n",
        "import os\n",
        "import random\n",
        "import re\n",
        "import sys\n",
        "\n",
        "#\n",
        "# Complete the 'hourglassSum' function below.\n",
        "#\n",
        "# The function is expected to return an INTEGER.\n",
        "# The function accepts 2D_INTEGER_ARRAY arr as parameter.\n",
        "#\n",
        "\n",
        "def hourglassSum(arr):\n",
        "    # Write your code here\n",
        "    sum_values = []\n",
        "    \n",
        "    for row in range(len(arr)-2):\n",
        "        for col in range(len(arr)-2):\n",
        "            sum_values.append(arr[row][col]+arr[row][col+1]+arr[row][col+2]\n",
        "                                           +arr[row+1][col+1]\n",
        "                             +arr[row+2][col]+arr[row+2][col+1]+arr[row+2][col+2])\n",
        "    \n",
        "    return max(sum_values)\n",
        "\n",
        "if __name__ == '__main__':\n",
        "    fptr = open(os.environ['OUTPUT_PATH'], 'w')\n",
        "\n",
        "    arr = []\n",
        "\n",
        "    for _ in range(6):\n",
        "        arr.append(list(map(int, input().rstrip().split())))\n",
        "\n",
        "    result = hourglassSum(arr)\n",
        "\n",
        "    fptr.write(str(result) + '\\n')\n",
        "\n",
        "    fptr.close()\n"
      ],
      "execution_count": 2,
      "outputs": [
        {
          "output_type": "stream",
          "text": [
            "1 2 3 4 5 6\n",
            "4 5 3 6 8 6\n",
            "5 8 4 2 5 3 \n",
            "0 6 3 1 4 6 \n",
            "4 5 6 3 5 2 1\n",
            "3 4 5 6 7 8 9\n",
            "[[1, 2, 3, 4, 5, 6], [4, 5, 3, 6, 8, 6], [5, 8, 4, 2, 5, 3], [0, 6, 3, 1, 4, 6], [4, 5, 6, 3, 5, 2, 1], [3, 4, 5, 6, 7, 8, 9]]\n"
          ],
          "name": "stdout"
        }
      ]
    },
    {
      "cell_type": "code",
      "metadata": {
        "colab": {
          "base_uri": "https://localhost:8080/"
        },
        "id": "JpcuEnzfazq3",
        "outputId": "b3e993df-4602-45f3-d691-ccbf36eb1a5f"
      },
      "source": [
        "print(arr[0][5])"
      ],
      "execution_count": 8,
      "outputs": [
        {
          "output_type": "stream",
          "text": [
            "6\n"
          ],
          "name": "stdout"
        }
      ]
    },
    {
      "cell_type": "code",
      "metadata": {
        "id": "3OQztoQZa0wy"
      },
      "source": [
        ""
      ],
      "execution_count": null,
      "outputs": []
    }
  ]
}