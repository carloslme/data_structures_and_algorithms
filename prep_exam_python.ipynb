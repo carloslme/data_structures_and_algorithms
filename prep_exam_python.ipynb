{
  "nbformat": 4,
  "nbformat_minor": 0,
  "metadata": {
    "colab": {
      "name": "prep_exam_python",
      "provenance": [],
      "authorship_tag": "ABX9TyM0hCrCsYkSxdRlLSRBVH17",
      "include_colab_link": true
    },
    "kernelspec": {
      "name": "python3",
      "display_name": "Python 3"
    },
    "language_info": {
      "name": "python"
    }
  },
  "cells": [
    {
      "cell_type": "markdown",
      "metadata": {
        "id": "view-in-github",
        "colab_type": "text"
      },
      "source": [
        "<a href=\"https://colab.research.google.com/github/carloslme/data_structures_and_algorithms/blob/main/prep_exam_python.ipynb\" target=\"_parent\"><img src=\"https://colab.research.google.com/assets/colab-badge.svg\" alt=\"Open In Colab\"/></a>"
      ]
    },
    {
      "cell_type": "markdown",
      "metadata": {
        "id": "KY5WmVeP87h3"
      },
      "source": [
        "# Topics to cover for Python\n",
        "\n",
        "* Flow Control\n",
        "* Functions\n",
        "* Exception Handling\n",
        "* Lists\n",
        "* Dictionaries and Structuring Sata\n",
        "* Sets\n",
        "* Comprehensions\n",
        "* Iterables\n",
        "* Manipulating Strings\n",
        "* String Formatting\n",
        "\n",
        "* Closures\n",
        "* Decorators\n",
        "* Generators\n",
        "* Maps\n"
      ]
    },
    {
      "cell_type": "markdown",
      "metadata": {
        "id": "tOxM0Lgbmye0"
      },
      "source": [
        "## Maps\n",
        "map() functions returns a map object(which is an iterator) of the results after applying the given function to each item of a given iterable (list, tuple, etc.)"
      ]
    },
    {
      "cell_type": "code",
      "metadata": {
        "id": "RqmQ9Q7Y8NA7",
        "colab": {
          "base_uri": "https://localhost:8080/"
        },
        "outputId": "ec6d76d4-a538-4362-cf85-4be27773fba1"
      },
      "source": [
        "def addition(n):\n",
        "  return n+n\n",
        "\n",
        "numbers = (1,2,3,4)\n",
        "result = map(addition, numbers)\n",
        "print(list(result))"
      ],
      "execution_count": 1,
      "outputs": [
        {
          "output_type": "stream",
          "text": [
            "[2, 4, 6, 8]\n"
          ],
          "name": "stdout"
        }
      ]
    },
    {
      "cell_type": "code",
      "metadata": {
        "colab": {
          "base_uri": "https://localhost:8080/"
        },
        "id": "C6EAfFism_vo",
        "outputId": "d19b06d6-901e-4be3-b919-5801c31ea1ff"
      },
      "source": [
        "l = ['sat', 'bat', 'cat', 'mat']\n",
        "\n",
        "test = list(map(list, l))\n",
        "print(test)"
      ],
      "execution_count": 2,
      "outputs": [
        {
          "output_type": "stream",
          "text": [
            "[['s', 'a', 't'], ['b', 'a', 't'], ['c', 'a', 't'], ['m', 'a', 't']]\n"
          ],
          "name": "stdout"
        }
      ]
    },
    {
      "cell_type": "markdown",
      "metadata": {
        "id": "8lZDoMpJI_YX"
      },
      "source": [
        "## Lists"
      ]
    },
    {
      "cell_type": "code",
      "metadata": {
        "id": "-yP5piaIJV3t",
        "outputId": "639309a8-f57a-485c-c748-1eed85c78411",
        "colab": {
          "base_uri": "https://localhost:8080/"
        }
      },
      "source": [
        "spam = ['cat','bat','rat','elephant']\n",
        "spam"
      ],
      "execution_count": 1,
      "outputs": [
        {
          "output_type": "execute_result",
          "data": {
            "text/plain": [
              "['cat', 'bat', 'rat', 'elephant']"
            ]
          },
          "metadata": {
            "tags": []
          },
          "execution_count": 1
        }
      ]
    },
    {
      "cell_type": "markdown",
      "metadata": {
        "id": "iFYHO005JCiE"
      },
      "source": [
        "### Getting individual values in a list with indexes"
      ]
    },
    {
      "cell_type": "code",
      "metadata": {
        "colab": {
          "base_uri": "https://localhost:8080/",
          "height": 35
        },
        "id": "eqHKBnbopmu7",
        "outputId": "b6c2ab1e-d662-4f08-c795-9ba549320e60"
      },
      "source": [
        "spam[0]"
      ],
      "execution_count": 2,
      "outputs": [
        {
          "output_type": "execute_result",
          "data": {
            "application/vnd.google.colaboratory.intrinsic+json": {
              "type": "string"
            },
            "text/plain": [
              "'cat'"
            ]
          },
          "metadata": {
            "tags": []
          },
          "execution_count": 2
        }
      ]
    },
    {
      "cell_type": "code",
      "metadata": {
        "id": "FcsAcWpZJkZ2",
        "outputId": "b16c4ea7-eec0-4b32-a4e6-51bac2391733",
        "colab": {
          "base_uri": "https://localhost:8080/",
          "height": 35
        }
      },
      "source": [
        "spam[3]"
      ],
      "execution_count": 3,
      "outputs": [
        {
          "output_type": "execute_result",
          "data": {
            "application/vnd.google.colaboratory.intrinsic+json": {
              "type": "string"
            },
            "text/plain": [
              "'elephant'"
            ]
          },
          "metadata": {
            "tags": []
          },
          "execution_count": 3
        }
      ]
    },
    {
      "cell_type": "markdown",
      "metadata": {
        "id": "fq-7gbPOJozV"
      },
      "source": [
        "### Negative indexes"
      ]
    },
    {
      "cell_type": "code",
      "metadata": {
        "id": "reZXnXZKJm9m",
        "outputId": "f8718526-8f65-45aa-8bd0-eb16a8764887",
        "colab": {
          "base_uri": "https://localhost:8080/",
          "height": 35
        }
      },
      "source": [
        "spam[-1]"
      ],
      "execution_count": 5,
      "outputs": [
        {
          "output_type": "execute_result",
          "data": {
            "application/vnd.google.colaboratory.intrinsic+json": {
              "type": "string"
            },
            "text/plain": [
              "'elephant'"
            ]
          },
          "metadata": {
            "tags": []
          },
          "execution_count": 5
        }
      ]
    },
    {
      "cell_type": "code",
      "metadata": {
        "id": "FbJNd1cdJsSk",
        "outputId": "9262fc93-b5f2-4bf2-fca2-ee5df3bbaf72",
        "colab": {
          "base_uri": "https://localhost:8080/",
          "height": 35
        }
      },
      "source": [
        "spam[-3]"
      ],
      "execution_count": 6,
      "outputs": [
        {
          "output_type": "execute_result",
          "data": {
            "application/vnd.google.colaboratory.intrinsic+json": {
              "type": "string"
            },
            "text/plain": [
              "'bat'"
            ]
          },
          "metadata": {
            "tags": []
          },
          "execution_count": 6
        }
      ]
    },
    {
      "cell_type": "code",
      "metadata": {
        "id": "Be6UP43OJvEB",
        "outputId": "ade011be-13ac-42ff-b0f8-51697898b17d",
        "colab": {
          "base_uri": "https://localhost:8080/",
          "height": 35
        }
      },
      "source": [
        "'The {} is afraid of the {}.'.format(spam[-1], spam[-2])"
      ],
      "execution_count": 7,
      "outputs": [
        {
          "output_type": "execute_result",
          "data": {
            "application/vnd.google.colaboratory.intrinsic+json": {
              "type": "string"
            },
            "text/plain": [
              "'The elephant is afraid of the rat.'"
            ]
          },
          "metadata": {
            "tags": []
          },
          "execution_count": 7
        }
      ]
    },
    {
      "cell_type": "markdown",
      "metadata": {
        "id": "NCeOliCHJ9Td"
      },
      "source": [
        "### Getting sublists with slices"
      ]
    },
    {
      "cell_type": "code",
      "metadata": {
        "id": "w-mKS6VEJ67K",
        "outputId": "4ea0023f-6cb5-4e43-dca0-ef8d04a93772",
        "colab": {
          "base_uri": "https://localhost:8080/"
        }
      },
      "source": [
        "spam[0:4]"
      ],
      "execution_count": 8,
      "outputs": [
        {
          "output_type": "execute_result",
          "data": {
            "text/plain": [
              "['cat', 'bat', 'rat', 'elephant']"
            ]
          },
          "metadata": {
            "tags": []
          },
          "execution_count": 8
        }
      ]
    },
    {
      "cell_type": "code",
      "metadata": {
        "id": "YjolaS2VKHC_",
        "outputId": "edf594cd-5c67-4b90-b4a5-9aec0fa8fee6",
        "colab": {
          "base_uri": "https://localhost:8080/"
        }
      },
      "source": [
        "spam[1:3]"
      ],
      "execution_count": 9,
      "outputs": [
        {
          "output_type": "execute_result",
          "data": {
            "text/plain": [
              "['bat', 'rat']"
            ]
          },
          "metadata": {
            "tags": []
          },
          "execution_count": 9
        }
      ]
    },
    {
      "cell_type": "code",
      "metadata": {
        "id": "0PsSVE6zKJOK",
        "outputId": "e8c788a6-13ae-4bb9-de72-b23eb7e498b1",
        "colab": {
          "base_uri": "https://localhost:8080/"
        }
      },
      "source": [
        "spam[0:-1]"
      ],
      "execution_count": 11,
      "outputs": [
        {
          "output_type": "execute_result",
          "data": {
            "text/plain": [
              "['cat', 'bat', 'rat']"
            ]
          },
          "metadata": {
            "tags": []
          },
          "execution_count": 11
        }
      ]
    },
    {
      "cell_type": "code",
      "metadata": {
        "id": "RQL42sJ5KNcM",
        "outputId": "6e008d00-d43a-4850-da10-4d1abcc9e2b3",
        "colab": {
          "base_uri": "https://localhost:8080/"
        }
      },
      "source": [
        "spam[:2]"
      ],
      "execution_count": 12,
      "outputs": [
        {
          "output_type": "execute_result",
          "data": {
            "text/plain": [
              "['cat', 'bat']"
            ]
          },
          "metadata": {
            "tags": []
          },
          "execution_count": 12
        }
      ]
    },
    {
      "cell_type": "code",
      "metadata": {
        "id": "pqaOXeVqKWDq",
        "outputId": "3359ad96-daf8-4f2c-96c8-7d6772afeaa8",
        "colab": {
          "base_uri": "https://localhost:8080/"
        }
      },
      "source": [
        "spam[1:]"
      ],
      "execution_count": 13,
      "outputs": [
        {
          "output_type": "execute_result",
          "data": {
            "text/plain": [
              "['bat', 'rat', 'elephant']"
            ]
          },
          "metadata": {
            "tags": []
          },
          "execution_count": 13
        }
      ]
    },
    {
      "cell_type": "markdown",
      "metadata": {
        "id": "otQvO7euKhYZ"
      },
      "source": [
        "Slicing the complete list will perform a copy:"
      ]
    },
    {
      "cell_type": "code",
      "metadata": {
        "id": "Sf0yIXjSKYuw"
      },
      "source": [
        "spam2 = spam[:]"
      ],
      "execution_count": 14,
      "outputs": []
    },
    {
      "cell_type": "code",
      "metadata": {
        "id": "ub3CzvyXKmCj"
      },
      "source": [
        "spam.append('dog')"
      ],
      "execution_count": 15,
      "outputs": []
    },
    {
      "cell_type": "code",
      "metadata": {
        "id": "wDyiYPz2Ko0N",
        "outputId": "b780faaa-36e4-43a0-bc67-9625b26813ac",
        "colab": {
          "base_uri": "https://localhost:8080/"
        }
      },
      "source": [
        "spam"
      ],
      "execution_count": 16,
      "outputs": [
        {
          "output_type": "execute_result",
          "data": {
            "text/plain": [
              "['cat', 'bat', 'rat', 'elephant', 'dog']"
            ]
          },
          "metadata": {
            "tags": []
          },
          "execution_count": 16
        }
      ]
    },
    {
      "cell_type": "code",
      "metadata": {
        "id": "ZLQoMkW2KqDU",
        "outputId": "90352b3f-87aa-4557-fcbf-fb4657e672d7",
        "colab": {
          "base_uri": "https://localhost:8080/"
        }
      },
      "source": [
        "spam2"
      ],
      "execution_count": 17,
      "outputs": [
        {
          "output_type": "execute_result",
          "data": {
            "text/plain": [
              "['cat', 'bat', 'rat', 'elephant']"
            ]
          },
          "metadata": {
            "tags": []
          },
          "execution_count": 17
        }
      ]
    },
    {
      "cell_type": "markdown",
      "metadata": {
        "id": "cC0_2XcqKsV0"
      },
      "source": [
        "### Getting a list's length with len()"
      ]
    },
    {
      "cell_type": "code",
      "metadata": {
        "id": "zl6fGC9uKq6O",
        "outputId": "9f4514b1-7097-4b14-efe6-bb3f95a90163",
        "colab": {
          "base_uri": "https://localhost:8080/"
        }
      },
      "source": [
        "spam = ['cat', 'dog', 'moose']\n",
        "len(spam)"
      ],
      "execution_count": 19,
      "outputs": [
        {
          "output_type": "execute_result",
          "data": {
            "text/plain": [
              "3"
            ]
          },
          "metadata": {
            "tags": []
          },
          "execution_count": 19
        }
      ]
    },
    {
      "cell_type": "markdown",
      "metadata": {
        "id": "ytDnf_sZK79s"
      },
      "source": [
        "### Changing values in a list with indexes"
      ]
    },
    {
      "cell_type": "code",
      "metadata": {
        "id": "E67rNzomKymB"
      },
      "source": [
        "spam = ['cat', 'bat', 'rat', 'elephant']\n",
        "spam[1] = 'aardvark'"
      ],
      "execution_count": 20,
      "outputs": []
    },
    {
      "cell_type": "code",
      "metadata": {
        "id": "eUMKKaefLJIz",
        "outputId": "f4f40841-c5b2-49d3-fd63-5c28d6580b71",
        "colab": {
          "base_uri": "https://localhost:8080/"
        }
      },
      "source": [
        "spam"
      ],
      "execution_count": 21,
      "outputs": [
        {
          "output_type": "execute_result",
          "data": {
            "text/plain": [
              "['cat', 'aardvark', 'rat', 'elephant']"
            ]
          },
          "metadata": {
            "tags": []
          },
          "execution_count": 21
        }
      ]
    },
    {
      "cell_type": "code",
      "metadata": {
        "id": "lV-0WgqeLJ3p"
      },
      "source": [
        "spam[2] = spam[1]"
      ],
      "execution_count": 22,
      "outputs": []
    },
    {
      "cell_type": "code",
      "metadata": {
        "id": "6HFvuyYbLN25",
        "outputId": "02e1f0c6-51cd-4bdb-b985-d90fb25f693b",
        "colab": {
          "base_uri": "https://localhost:8080/"
        }
      },
      "source": [
        "spam"
      ],
      "execution_count": 23,
      "outputs": [
        {
          "output_type": "execute_result",
          "data": {
            "text/plain": [
              "['cat', 'aardvark', 'aardvark', 'elephant']"
            ]
          },
          "metadata": {
            "tags": []
          },
          "execution_count": 23
        }
      ]
    },
    {
      "cell_type": "code",
      "metadata": {
        "id": "tk0nJBcQLOWR",
        "outputId": "7a918b1a-208c-454e-c130-9dbd8f370166",
        "colab": {
          "base_uri": "https://localhost:8080/"
        }
      },
      "source": [
        "spam[-1] = 12345\n",
        "spam"
      ],
      "execution_count": 24,
      "outputs": [
        {
          "output_type": "execute_result",
          "data": {
            "text/plain": [
              "['cat', 'aardvark', 'aardvark', 12345]"
            ]
          },
          "metadata": {
            "tags": []
          },
          "execution_count": 24
        }
      ]
    },
    {
      "cell_type": "markdown",
      "metadata": {
        "id": "e1O99c67nj2K"
      },
      "source": [
        "### List concatenation and list replication"
      ]
    },
    {
      "cell_type": "code",
      "metadata": {
        "id": "TfRoDfHdLSaS",
        "outputId": "d85b79c7-012c-4ce8-bbfa-a12f4a7925cd",
        "colab": {
          "base_uri": "https://localhost:8080/"
        }
      },
      "source": [
        "[1,2,3] + ['A','B','C']"
      ],
      "execution_count": 1,
      "outputs": [
        {
          "output_type": "execute_result",
          "data": {
            "text/plain": [
              "[1, 2, 3, 'A', 'B', 'C']"
            ]
          },
          "metadata": {
            "tags": []
          },
          "execution_count": 1
        }
      ]
    },
    {
      "cell_type": "code",
      "metadata": {
        "id": "5gfBAEgpntLR",
        "outputId": "632ae955-81ce-44f8-a7ac-e66a4b124906",
        "colab": {
          "base_uri": "https://localhost:8080/"
        }
      },
      "source": [
        "['X','Y','Z'] * 3"
      ],
      "execution_count": 2,
      "outputs": [
        {
          "output_type": "execute_result",
          "data": {
            "text/plain": [
              "['X', 'Y', 'Z', 'X', 'Y', 'Z', 'X', 'Y', 'Z']"
            ]
          },
          "metadata": {
            "tags": []
          },
          "execution_count": 2
        }
      ]
    },
    {
      "cell_type": "code",
      "metadata": {
        "id": "R4Itl4Mbnw8K",
        "outputId": "9f35cd71-d9a8-4a1d-c2b2-d2564dad774f",
        "colab": {
          "base_uri": "https://localhost:8080/"
        }
      },
      "source": [
        "spam = [1,2,3]\n",
        "spam = spam + ['A','B','C']\n",
        "spam"
      ],
      "execution_count": 3,
      "outputs": [
        {
          "output_type": "execute_result",
          "data": {
            "text/plain": [
              "[1, 2, 3, 'A', 'B', 'C']"
            ]
          },
          "metadata": {
            "tags": []
          },
          "execution_count": 3
        }
      ]
    },
    {
      "cell_type": "markdown",
      "metadata": {
        "id": "rSZqmRFrn9Ll"
      },
      "source": [
        "### Removing values from list with `del` statement"
      ]
    },
    {
      "cell_type": "code",
      "metadata": {
        "id": "xsQEIKaBn7ob"
      },
      "source": [
        "spam = ['cat', 'bat', 'rat', 'elephant']"
      ],
      "execution_count": 4,
      "outputs": []
    },
    {
      "cell_type": "code",
      "metadata": {
        "id": "hyvNUtAppXY0",
        "outputId": "bd6f7e3c-96a2-4224-db41-fa8e8fd33c4e",
        "colab": {
          "base_uri": "https://localhost:8080/"
        }
      },
      "source": [
        "del spam[0]\n",
        "spam"
      ],
      "execution_count": 5,
      "outputs": [
        {
          "output_type": "execute_result",
          "data": {
            "text/plain": [
              "['bat', 'rat', 'elephant']"
            ]
          },
          "metadata": {
            "tags": []
          },
          "execution_count": 5
        }
      ]
    },
    {
      "cell_type": "markdown",
      "metadata": {
        "id": "sLz8COKzpdZi"
      },
      "source": [
        "### Using loops with lists"
      ]
    },
    {
      "cell_type": "code",
      "metadata": {
        "id": "grENjsqspawx"
      },
      "source": [
        "supplies = ['pens', 'staplers', 'flame-throwers', 'binders']"
      ],
      "execution_count": 8,
      "outputs": []
    },
    {
      "cell_type": "code",
      "metadata": {
        "id": "RxledRhnpigG",
        "outputId": "3607e5ce-0c2b-428b-ab46-0e9a2db4c5d8",
        "colab": {
          "base_uri": "https://localhost:8080/"
        }
      },
      "source": [
        "for s in supplies:\n",
        "  print(s)"
      ],
      "execution_count": 7,
      "outputs": [
        {
          "output_type": "stream",
          "text": [
            "pens\n",
            "staplers\n",
            "flame-throwers\n",
            "binders\n"
          ],
          "name": "stdout"
        }
      ]
    },
    {
      "cell_type": "code",
      "metadata": {
        "id": "sV3JGt92pmEY"
      },
      "source": [
        ""
      ],
      "execution_count": null,
      "outputs": []
    }
  ]
}