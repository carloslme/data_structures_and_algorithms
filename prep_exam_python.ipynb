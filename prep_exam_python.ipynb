{
  "nbformat": 4,
  "nbformat_minor": 0,
  "metadata": {
    "colab": {
      "name": "prep_exam_python",
      "provenance": [],
      "authorship_tag": "ABX9TyPUsifOPNUd5pDrTOpfCp4V",
      "include_colab_link": true
    },
    "kernelspec": {
      "name": "python3",
      "display_name": "Python 3"
    },
    "language_info": {
      "name": "python"
    }
  },
  "cells": [
    {
      "cell_type": "markdown",
      "metadata": {
        "id": "view-in-github",
        "colab_type": "text"
      },
      "source": [
        "<a href=\"https://colab.research.google.com/github/carloslme/data_structures_and_algorithms/blob/main/prep_exam_python.ipynb\" target=\"_parent\"><img src=\"https://colab.research.google.com/assets/colab-badge.svg\" alt=\"Open In Colab\"/></a>"
      ]
    },
    {
      "cell_type": "markdown",
      "metadata": {
        "id": "KY5WmVeP87h3"
      },
      "source": [
        "# Topics to cover for Python\n",
        "\n",
        "* Flow Control\n",
        "* Functions\n",
        "* Exception Handling\n",
        "* Lists\n",
        "* Dictionaries and Structuring Sata\n",
        "* Sets\n",
        "* Comprehensions\n",
        "* Iterables\n",
        "* Manipulating Strings\n",
        "* String Formatting\n",
        "\n",
        "* Closures\n",
        "* Decorators\n",
        "* Generators\n",
        "* Maps\n"
      ]
    },
    {
      "cell_type": "markdown",
      "metadata": {
        "id": "tOxM0Lgbmye0"
      },
      "source": [
        "## Maps\n",
        "map() functions returns a map object(which is an iterator) of the results after applying the given function to each item of a given iterable (list, tuple, etc.)"
      ]
    },
    {
      "cell_type": "code",
      "metadata": {
        "id": "RqmQ9Q7Y8NA7",
        "colab": {
          "base_uri": "https://localhost:8080/"
        },
        "outputId": "ec6d76d4-a538-4362-cf85-4be27773fba1"
      },
      "source": [
        "def addition(n):\n",
        "  return n+n\n",
        "\n",
        "numbers = (1,2,3,4)\n",
        "result = map(addition, numbers)\n",
        "print(list(result))"
      ],
      "execution_count": null,
      "outputs": [
        {
          "output_type": "stream",
          "text": [
            "[2, 4, 6, 8]\n"
          ],
          "name": "stdout"
        }
      ]
    },
    {
      "cell_type": "code",
      "metadata": {
        "colab": {
          "base_uri": "https://localhost:8080/"
        },
        "id": "C6EAfFism_vo",
        "outputId": "d19b06d6-901e-4be3-b919-5801c31ea1ff"
      },
      "source": [
        "l = ['sat', 'bat', 'cat', 'mat']\n",
        "\n",
        "test = list(map(list, l))\n",
        "print(test)"
      ],
      "execution_count": null,
      "outputs": [
        {
          "output_type": "stream",
          "text": [
            "[['s', 'a', 't'], ['b', 'a', 't'], ['c', 'a', 't'], ['m', 'a', 't']]\n"
          ],
          "name": "stdout"
        }
      ]
    },
    {
      "cell_type": "markdown",
      "metadata": {
        "id": "8lZDoMpJI_YX"
      },
      "source": [
        "## Lists"
      ]
    },
    {
      "cell_type": "code",
      "metadata": {
        "colab": {
          "base_uri": "https://localhost:8080/"
        },
        "id": "-yP5piaIJV3t",
        "outputId": "639309a8-f57a-485c-c748-1eed85c78411"
      },
      "source": [
        "spam = ['cat','bat','rat','elephant']\n",
        "spam"
      ],
      "execution_count": null,
      "outputs": [
        {
          "output_type": "execute_result",
          "data": {
            "text/plain": [
              "['cat', 'bat', 'rat', 'elephant']"
            ]
          },
          "metadata": {
            "tags": []
          },
          "execution_count": 1
        }
      ]
    },
    {
      "cell_type": "markdown",
      "metadata": {
        "id": "iFYHO005JCiE"
      },
      "source": [
        "### Getting individual values in a list with indexes"
      ]
    },
    {
      "cell_type": "code",
      "metadata": {
        "colab": {
          "base_uri": "https://localhost:8080/",
          "height": 35
        },
        "id": "eqHKBnbopmu7",
        "outputId": "b6c2ab1e-d662-4f08-c795-9ba549320e60"
      },
      "source": [
        "spam[0]"
      ],
      "execution_count": null,
      "outputs": [
        {
          "output_type": "execute_result",
          "data": {
            "application/vnd.google.colaboratory.intrinsic+json": {
              "type": "string"
            },
            "text/plain": [
              "'cat'"
            ]
          },
          "metadata": {
            "tags": []
          },
          "execution_count": 2
        }
      ]
    },
    {
      "cell_type": "code",
      "metadata": {
        "colab": {
          "base_uri": "https://localhost:8080/",
          "height": 35
        },
        "id": "FcsAcWpZJkZ2",
        "outputId": "b16c4ea7-eec0-4b32-a4e6-51bac2391733"
      },
      "source": [
        "spam[3]"
      ],
      "execution_count": null,
      "outputs": [
        {
          "output_type": "execute_result",
          "data": {
            "application/vnd.google.colaboratory.intrinsic+json": {
              "type": "string"
            },
            "text/plain": [
              "'elephant'"
            ]
          },
          "metadata": {
            "tags": []
          },
          "execution_count": 3
        }
      ]
    },
    {
      "cell_type": "markdown",
      "metadata": {
        "id": "fq-7gbPOJozV"
      },
      "source": [
        "### Negative indexes"
      ]
    },
    {
      "cell_type": "code",
      "metadata": {
        "colab": {
          "base_uri": "https://localhost:8080/",
          "height": 35
        },
        "id": "reZXnXZKJm9m",
        "outputId": "f8718526-8f65-45aa-8bd0-eb16a8764887"
      },
      "source": [
        "spam[-1]"
      ],
      "execution_count": null,
      "outputs": [
        {
          "output_type": "execute_result",
          "data": {
            "application/vnd.google.colaboratory.intrinsic+json": {
              "type": "string"
            },
            "text/plain": [
              "'elephant'"
            ]
          },
          "metadata": {
            "tags": []
          },
          "execution_count": 5
        }
      ]
    },
    {
      "cell_type": "code",
      "metadata": {
        "colab": {
          "base_uri": "https://localhost:8080/",
          "height": 35
        },
        "id": "FbJNd1cdJsSk",
        "outputId": "9262fc93-b5f2-4bf2-fca2-ee5df3bbaf72"
      },
      "source": [
        "spam[-3]"
      ],
      "execution_count": null,
      "outputs": [
        {
          "output_type": "execute_result",
          "data": {
            "application/vnd.google.colaboratory.intrinsic+json": {
              "type": "string"
            },
            "text/plain": [
              "'bat'"
            ]
          },
          "metadata": {
            "tags": []
          },
          "execution_count": 6
        }
      ]
    },
    {
      "cell_type": "code",
      "metadata": {
        "colab": {
          "base_uri": "https://localhost:8080/",
          "height": 35
        },
        "id": "Be6UP43OJvEB",
        "outputId": "ade011be-13ac-42ff-b0f8-51697898b17d"
      },
      "source": [
        "'The {} is afraid of the {}.'.format(spam[-1], spam[-2])"
      ],
      "execution_count": null,
      "outputs": [
        {
          "output_type": "execute_result",
          "data": {
            "application/vnd.google.colaboratory.intrinsic+json": {
              "type": "string"
            },
            "text/plain": [
              "'The elephant is afraid of the rat.'"
            ]
          },
          "metadata": {
            "tags": []
          },
          "execution_count": 7
        }
      ]
    },
    {
      "cell_type": "markdown",
      "metadata": {
        "id": "NCeOliCHJ9Td"
      },
      "source": [
        "### Getting sublists with slices"
      ]
    },
    {
      "cell_type": "code",
      "metadata": {
        "colab": {
          "base_uri": "https://localhost:8080/"
        },
        "id": "w-mKS6VEJ67K",
        "outputId": "4ea0023f-6cb5-4e43-dca0-ef8d04a93772"
      },
      "source": [
        "spam[0:4]"
      ],
      "execution_count": null,
      "outputs": [
        {
          "output_type": "execute_result",
          "data": {
            "text/plain": [
              "['cat', 'bat', 'rat', 'elephant']"
            ]
          },
          "metadata": {
            "tags": []
          },
          "execution_count": 8
        }
      ]
    },
    {
      "cell_type": "code",
      "metadata": {
        "colab": {
          "base_uri": "https://localhost:8080/"
        },
        "id": "YjolaS2VKHC_",
        "outputId": "edf594cd-5c67-4b90-b4a5-9aec0fa8fee6"
      },
      "source": [
        "spam[1:3]"
      ],
      "execution_count": null,
      "outputs": [
        {
          "output_type": "execute_result",
          "data": {
            "text/plain": [
              "['bat', 'rat']"
            ]
          },
          "metadata": {
            "tags": []
          },
          "execution_count": 9
        }
      ]
    },
    {
      "cell_type": "code",
      "metadata": {
        "colab": {
          "base_uri": "https://localhost:8080/"
        },
        "id": "0PsSVE6zKJOK",
        "outputId": "e8c788a6-13ae-4bb9-de72-b23eb7e498b1"
      },
      "source": [
        "spam[0:-1]"
      ],
      "execution_count": null,
      "outputs": [
        {
          "output_type": "execute_result",
          "data": {
            "text/plain": [
              "['cat', 'bat', 'rat']"
            ]
          },
          "metadata": {
            "tags": []
          },
          "execution_count": 11
        }
      ]
    },
    {
      "cell_type": "code",
      "metadata": {
        "colab": {
          "base_uri": "https://localhost:8080/"
        },
        "id": "RQL42sJ5KNcM",
        "outputId": "6e008d00-d43a-4850-da10-4d1abcc9e2b3"
      },
      "source": [
        "spam[:2]"
      ],
      "execution_count": null,
      "outputs": [
        {
          "output_type": "execute_result",
          "data": {
            "text/plain": [
              "['cat', 'bat']"
            ]
          },
          "metadata": {
            "tags": []
          },
          "execution_count": 12
        }
      ]
    },
    {
      "cell_type": "code",
      "metadata": {
        "colab": {
          "base_uri": "https://localhost:8080/"
        },
        "id": "pqaOXeVqKWDq",
        "outputId": "3359ad96-daf8-4f2c-96c8-7d6772afeaa8"
      },
      "source": [
        "spam[1:]"
      ],
      "execution_count": null,
      "outputs": [
        {
          "output_type": "execute_result",
          "data": {
            "text/plain": [
              "['bat', 'rat', 'elephant']"
            ]
          },
          "metadata": {
            "tags": []
          },
          "execution_count": 13
        }
      ]
    },
    {
      "cell_type": "markdown",
      "metadata": {
        "id": "otQvO7euKhYZ"
      },
      "source": [
        "Slicing the complete list will perform a copy:"
      ]
    },
    {
      "cell_type": "code",
      "metadata": {
        "id": "Sf0yIXjSKYuw"
      },
      "source": [
        "spam2 = spam[:]"
      ],
      "execution_count": null,
      "outputs": []
    },
    {
      "cell_type": "code",
      "metadata": {
        "id": "ub3CzvyXKmCj"
      },
      "source": [
        "spam.append('dog')"
      ],
      "execution_count": null,
      "outputs": []
    },
    {
      "cell_type": "code",
      "metadata": {
        "colab": {
          "base_uri": "https://localhost:8080/"
        },
        "id": "wDyiYPz2Ko0N",
        "outputId": "b780faaa-36e4-43a0-bc67-9625b26813ac"
      },
      "source": [
        "spam"
      ],
      "execution_count": null,
      "outputs": [
        {
          "output_type": "execute_result",
          "data": {
            "text/plain": [
              "['cat', 'bat', 'rat', 'elephant', 'dog']"
            ]
          },
          "metadata": {
            "tags": []
          },
          "execution_count": 16
        }
      ]
    },
    {
      "cell_type": "code",
      "metadata": {
        "colab": {
          "base_uri": "https://localhost:8080/"
        },
        "id": "ZLQoMkW2KqDU",
        "outputId": "90352b3f-87aa-4557-fcbf-fb4657e672d7"
      },
      "source": [
        "spam2"
      ],
      "execution_count": null,
      "outputs": [
        {
          "output_type": "execute_result",
          "data": {
            "text/plain": [
              "['cat', 'bat', 'rat', 'elephant']"
            ]
          },
          "metadata": {
            "tags": []
          },
          "execution_count": 17
        }
      ]
    },
    {
      "cell_type": "markdown",
      "metadata": {
        "id": "cC0_2XcqKsV0"
      },
      "source": [
        "### Getting a list's length with len()"
      ]
    },
    {
      "cell_type": "code",
      "metadata": {
        "colab": {
          "base_uri": "https://localhost:8080/"
        },
        "id": "zl6fGC9uKq6O",
        "outputId": "9f4514b1-7097-4b14-efe6-bb3f95a90163"
      },
      "source": [
        "spam = ['cat', 'dog', 'moose']\n",
        "len(spam)"
      ],
      "execution_count": null,
      "outputs": [
        {
          "output_type": "execute_result",
          "data": {
            "text/plain": [
              "3"
            ]
          },
          "metadata": {
            "tags": []
          },
          "execution_count": 19
        }
      ]
    },
    {
      "cell_type": "markdown",
      "metadata": {
        "id": "ytDnf_sZK79s"
      },
      "source": [
        "### Changing values in a list with indexes"
      ]
    },
    {
      "cell_type": "code",
      "metadata": {
        "id": "E67rNzomKymB"
      },
      "source": [
        "spam = ['cat', 'bat', 'rat', 'elephant']\n",
        "spam[1] = 'aardvark'"
      ],
      "execution_count": null,
      "outputs": []
    },
    {
      "cell_type": "code",
      "metadata": {
        "colab": {
          "base_uri": "https://localhost:8080/"
        },
        "id": "eUMKKaefLJIz",
        "outputId": "f4f40841-c5b2-49d3-fd63-5c28d6580b71"
      },
      "source": [
        "spam"
      ],
      "execution_count": null,
      "outputs": [
        {
          "output_type": "execute_result",
          "data": {
            "text/plain": [
              "['cat', 'aardvark', 'rat', 'elephant']"
            ]
          },
          "metadata": {
            "tags": []
          },
          "execution_count": 21
        }
      ]
    },
    {
      "cell_type": "code",
      "metadata": {
        "id": "lV-0WgqeLJ3p"
      },
      "source": [
        "spam[2] = spam[1]"
      ],
      "execution_count": null,
      "outputs": []
    },
    {
      "cell_type": "code",
      "metadata": {
        "colab": {
          "base_uri": "https://localhost:8080/"
        },
        "id": "6HFvuyYbLN25",
        "outputId": "02e1f0c6-51cd-4bdb-b985-d90fb25f693b"
      },
      "source": [
        "spam"
      ],
      "execution_count": null,
      "outputs": [
        {
          "output_type": "execute_result",
          "data": {
            "text/plain": [
              "['cat', 'aardvark', 'aardvark', 'elephant']"
            ]
          },
          "metadata": {
            "tags": []
          },
          "execution_count": 23
        }
      ]
    },
    {
      "cell_type": "code",
      "metadata": {
        "colab": {
          "base_uri": "https://localhost:8080/"
        },
        "id": "tk0nJBcQLOWR",
        "outputId": "7a918b1a-208c-454e-c130-9dbd8f370166"
      },
      "source": [
        "spam[-1] = 12345\n",
        "spam"
      ],
      "execution_count": null,
      "outputs": [
        {
          "output_type": "execute_result",
          "data": {
            "text/plain": [
              "['cat', 'aardvark', 'aardvark', 12345]"
            ]
          },
          "metadata": {
            "tags": []
          },
          "execution_count": 24
        }
      ]
    },
    {
      "cell_type": "markdown",
      "metadata": {
        "id": "e1O99c67nj2K"
      },
      "source": [
        "### List concatenation and list replication"
      ]
    },
    {
      "cell_type": "code",
      "metadata": {
        "colab": {
          "base_uri": "https://localhost:8080/"
        },
        "id": "TfRoDfHdLSaS",
        "outputId": "d85b79c7-012c-4ce8-bbfa-a12f4a7925cd"
      },
      "source": [
        "[1,2,3] + ['A','B','C']"
      ],
      "execution_count": null,
      "outputs": [
        {
          "output_type": "execute_result",
          "data": {
            "text/plain": [
              "[1, 2, 3, 'A', 'B', 'C']"
            ]
          },
          "metadata": {
            "tags": []
          },
          "execution_count": 1
        }
      ]
    },
    {
      "cell_type": "code",
      "metadata": {
        "colab": {
          "base_uri": "https://localhost:8080/"
        },
        "id": "5gfBAEgpntLR",
        "outputId": "632ae955-81ce-44f8-a7ac-e66a4b124906"
      },
      "source": [
        "['X','Y','Z'] * 3"
      ],
      "execution_count": null,
      "outputs": [
        {
          "output_type": "execute_result",
          "data": {
            "text/plain": [
              "['X', 'Y', 'Z', 'X', 'Y', 'Z', 'X', 'Y', 'Z']"
            ]
          },
          "metadata": {
            "tags": []
          },
          "execution_count": 2
        }
      ]
    },
    {
      "cell_type": "code",
      "metadata": {
        "colab": {
          "base_uri": "https://localhost:8080/"
        },
        "id": "R4Itl4Mbnw8K",
        "outputId": "9f35cd71-d9a8-4a1d-c2b2-d2564dad774f"
      },
      "source": [
        "spam = [1,2,3]\n",
        "spam = spam + ['A','B','C']\n",
        "spam"
      ],
      "execution_count": null,
      "outputs": [
        {
          "output_type": "execute_result",
          "data": {
            "text/plain": [
              "[1, 2, 3, 'A', 'B', 'C']"
            ]
          },
          "metadata": {
            "tags": []
          },
          "execution_count": 3
        }
      ]
    },
    {
      "cell_type": "markdown",
      "metadata": {
        "id": "rSZqmRFrn9Ll"
      },
      "source": [
        "### Removing values from list with `del` statement"
      ]
    },
    {
      "cell_type": "code",
      "metadata": {
        "id": "xsQEIKaBn7ob"
      },
      "source": [
        "spam = ['cat', 'bat', 'rat', 'elephant']"
      ],
      "execution_count": null,
      "outputs": []
    },
    {
      "cell_type": "code",
      "metadata": {
        "colab": {
          "base_uri": "https://localhost:8080/"
        },
        "id": "hyvNUtAppXY0",
        "outputId": "bd6f7e3c-96a2-4224-db41-fa8e8fd33c4e"
      },
      "source": [
        "del spam[0]\n",
        "spam"
      ],
      "execution_count": null,
      "outputs": [
        {
          "output_type": "execute_result",
          "data": {
            "text/plain": [
              "['bat', 'rat', 'elephant']"
            ]
          },
          "metadata": {
            "tags": []
          },
          "execution_count": 5
        }
      ]
    },
    {
      "cell_type": "markdown",
      "metadata": {
        "id": "sLz8COKzpdZi"
      },
      "source": [
        "### Using loops with lists"
      ]
    },
    {
      "cell_type": "code",
      "metadata": {
        "id": "grENjsqspawx"
      },
      "source": [
        "supplies = ['pens', 'staplers', 'flame-throwers', 'binders']"
      ],
      "execution_count": null,
      "outputs": []
    },
    {
      "cell_type": "code",
      "metadata": {
        "colab": {
          "base_uri": "https://localhost:8080/"
        },
        "id": "RxledRhnpigG",
        "outputId": "3607e5ce-0c2b-428b-ab46-0e9a2db4c5d8"
      },
      "source": [
        "for s in supplies:\n",
        "  print(s)"
      ],
      "execution_count": null,
      "outputs": [
        {
          "output_type": "stream",
          "text": [
            "pens\n",
            "staplers\n",
            "flame-throwers\n",
            "binders\n"
          ],
          "name": "stdout"
        }
      ]
    },
    {
      "cell_type": "markdown",
      "metadata": {
        "id": "Z_mkXNedtu-_"
      },
      "source": [
        "### Looping Through Multiple Lists with `zip()`\n"
      ]
    },
    {
      "cell_type": "code",
      "metadata": {
        "id": "sV3JGt92pmEY"
      },
      "source": [
        "name = ['Pete','John','Elizabeth']\n",
        "age = [6, 23, 44]"
      ],
      "execution_count": null,
      "outputs": []
    },
    {
      "cell_type": "code",
      "metadata": {
        "colab": {
          "base_uri": "https://localhost:8080/"
        },
        "id": "WRka8mQwt4kj",
        "outputId": "5f662dde-438c-4feb-8ecb-079f49bcdb3c"
      },
      "source": [
        "for n, a in zip(name, age):\n",
        "  print('{} is {} years old'.format(n, a))"
      ],
      "execution_count": null,
      "outputs": [
        {
          "output_type": "stream",
          "text": [
            "Pete is 6 years old\n",
            "John is 23 years old\n",
            "Elizabeth is 44 years old\n"
          ],
          "name": "stdout"
        }
      ]
    },
    {
      "cell_type": "markdown",
      "metadata": {
        "id": "0eiPgb1guJOq"
      },
      "source": [
        "### The in and not in Operators"
      ]
    },
    {
      "cell_type": "code",
      "metadata": {
        "colab": {
          "base_uri": "https://localhost:8080/"
        },
        "id": "d6vr3PYpuGHi",
        "outputId": "b5a8dc97-95f3-4032-bd11-c251da8beff6"
      },
      "source": [
        "'howdy' in ['hello','hi','howdy','heyas']"
      ],
      "execution_count": null,
      "outputs": [
        {
          "output_type": "execute_result",
          "data": {
            "text/plain": [
              "True"
            ]
          },
          "metadata": {
            "tags": []
          },
          "execution_count": 11
        }
      ]
    },
    {
      "cell_type": "code",
      "metadata": {
        "id": "R0Bm1naTuSLB"
      },
      "source": [
        "spam = ['hello', 'hi', 'howdy', 'heyas']"
      ],
      "execution_count": null,
      "outputs": []
    },
    {
      "cell_type": "code",
      "metadata": {
        "colab": {
          "base_uri": "https://localhost:8080/"
        },
        "id": "gLQTsLfXuW7m",
        "outputId": "19932639-5bf7-4b6f-c052-1b0ed9fbe76f"
      },
      "source": [
        "'cat' in spam"
      ],
      "execution_count": null,
      "outputs": [
        {
          "output_type": "execute_result",
          "data": {
            "text/plain": [
              "False"
            ]
          },
          "metadata": {
            "tags": []
          },
          "execution_count": 13
        }
      ]
    },
    {
      "cell_type": "code",
      "metadata": {
        "colab": {
          "base_uri": "https://localhost:8080/"
        },
        "id": "H62-eW9luYnT",
        "outputId": "65d30aad-2ae2-48e4-eb76-e9aac4c8cf02"
      },
      "source": [
        "'howdy' not in spam"
      ],
      "execution_count": null,
      "outputs": [
        {
          "output_type": "execute_result",
          "data": {
            "text/plain": [
              "False"
            ]
          },
          "metadata": {
            "tags": []
          },
          "execution_count": 14
        }
      ]
    },
    {
      "cell_type": "markdown",
      "metadata": {
        "id": "2CgbEQyxuizA"
      },
      "source": [
        "### The Multiple Assignment Trick\n"
      ]
    },
    {
      "cell_type": "code",
      "metadata": {
        "id": "D9u5rTBlucO6"
      },
      "source": [
        "cat = ['fat', 'orange', 'loud']"
      ],
      "execution_count": null,
      "outputs": []
    },
    {
      "cell_type": "code",
      "metadata": {
        "id": "nBEWTq5Jw3Q5"
      },
      "source": [
        "size, color, disposition = cat"
      ],
      "execution_count": null,
      "outputs": []
    },
    {
      "cell_type": "code",
      "metadata": {
        "id": "c5CK4FfKw8hI"
      },
      "source": [
        "a, b = 'Alice', 'Bob'"
      ],
      "execution_count": null,
      "outputs": []
    },
    {
      "cell_type": "code",
      "metadata": {
        "colab": {
          "base_uri": "https://localhost:8080/"
        },
        "id": "S_wzNS6fzWhE",
        "outputId": "55dc98b1-e01a-4fd8-ca13-a648b3361a99"
      },
      "source": [
        "a, b = b, a\n",
        "print(a + ' ' + b)"
      ],
      "execution_count": null,
      "outputs": [
        {
          "output_type": "stream",
          "text": [
            "Bob Alice\n"
          ],
          "name": "stdout"
        }
      ]
    },
    {
      "cell_type": "markdown",
      "metadata": {
        "id": "nX6uuVnnzw0j"
      },
      "source": [
        "### Augmented Assigment Operators\n",
        "\n",
        "Operator\tEquivalent\n",
        "\n",
        "spam += 1\t-> spam = spam + 1\n",
        "\n",
        "spam -= 1\t-> spam = spam - 1\n",
        "\n",
        "\n",
        "spam *= 1\t-> spam = spam * 1\n",
        "\n",
        "spam /= 1\t-> spam = spam / 1\n",
        "\n",
        "spam %= 1\t-> spam = spam % 1"
      ]
    },
    {
      "cell_type": "code",
      "metadata": {
        "colab": {
          "base_uri": "https://localhost:8080/",
          "height": 35
        },
        "id": "VZf3mym2zmhF",
        "outputId": "12dde462-e5cd-4bac-b574-10e4739280b9"
      },
      "source": [
        "spam = 'Hello'\n",
        "spam += ' world!'\n",
        "spam"
      ],
      "execution_count": null,
      "outputs": [
        {
          "output_type": "execute_result",
          "data": {
            "application/vnd.google.colaboratory.intrinsic+json": {
              "type": "string"
            },
            "text/plain": [
              "'Hello world!'"
            ]
          },
          "metadata": {
            "tags": []
          },
          "execution_count": 10
        }
      ]
    },
    {
      "cell_type": "code",
      "metadata": {
        "colab": {
          "base_uri": "https://localhost:8080/"
        },
        "id": "n8Y1r6TO0SGP",
        "outputId": "a2bf96ed-6d1c-4a07-cb1a-bb71190792f9"
      },
      "source": [
        "bacon = ['Zophie']\n",
        "bacon *= 3\n",
        "bacon "
      ],
      "execution_count": null,
      "outputs": [
        {
          "output_type": "execute_result",
          "data": {
            "text/plain": [
              "['Zophie', 'Zophie', 'Zophie']"
            ]
          },
          "metadata": {
            "tags": []
          },
          "execution_count": 16
        }
      ]
    },
    {
      "cell_type": "markdown",
      "metadata": {
        "id": "lrhIjf073CoD"
      },
      "source": [
        "### Finding a Value in a List with the index() Method"
      ]
    },
    {
      "cell_type": "code",
      "metadata": {
        "colab": {
          "base_uri": "https://localhost:8080/"
        },
        "id": "hDHzttNC1ULF",
        "outputId": "2437550c-c5a9-4fac-de2f-d6257ea60c76"
      },
      "source": [
        "spam = ['Zophie', 'Pooka', 'Fat-tail', 'Pooka']\n",
        "spam.index('Pooka')"
      ],
      "execution_count": null,
      "outputs": [
        {
          "output_type": "execute_result",
          "data": {
            "text/plain": [
              "1"
            ]
          },
          "metadata": {
            "tags": []
          },
          "execution_count": 19
        }
      ]
    },
    {
      "cell_type": "markdown",
      "metadata": {
        "id": "oXS-_wrm3i70"
      },
      "source": [
        "### Adding Values to Lists with the append() and insert()"
      ]
    },
    {
      "cell_type": "code",
      "metadata": {
        "colab": {
          "base_uri": "https://localhost:8080/"
        },
        "id": "PR-pMsJX3QmC",
        "outputId": "75822d5d-0728-4ac0-81e5-c756c6bf2394"
      },
      "source": [
        "spam = ['cat', 'dog', 'bat']\n",
        "spam.append('moose')\n",
        "spam"
      ],
      "execution_count": null,
      "outputs": [
        {
          "output_type": "execute_result",
          "data": {
            "text/plain": [
              "['cat', 'dog', 'bat', 'moose']"
            ]
          },
          "metadata": {
            "tags": []
          },
          "execution_count": 1
        }
      ]
    },
    {
      "cell_type": "code",
      "metadata": {
        "id": "2F2QUwQNj42C",
        "colab": {
          "base_uri": "https://localhost:8080/"
        },
        "outputId": "e7eecda6-d633-4d04-de1b-87c0c6a26c3a"
      },
      "source": [
        "spam.insert(1, 'chicken')\n",
        "spam"
      ],
      "execution_count": null,
      "outputs": [
        {
          "output_type": "execute_result",
          "data": {
            "text/plain": [
              "['cat', 'chicken', 'dog', 'bat', 'moose']"
            ]
          },
          "metadata": {
            "tags": []
          },
          "execution_count": 2
        }
      ]
    },
    {
      "cell_type": "markdown",
      "metadata": {
        "id": "FphUg0zFkDRS"
      },
      "source": [
        "### Removing Values from Lists with remove()"
      ]
    },
    {
      "cell_type": "code",
      "metadata": {
        "id": "oq0GQ3S5kAcl",
        "colab": {
          "base_uri": "https://localhost:8080/"
        },
        "outputId": "6145c972-42fc-45b5-dbbe-0dd0fbc3692e"
      },
      "source": [
        "spam.remove('bat')\n",
        "spam"
      ],
      "execution_count": null,
      "outputs": [
        {
          "output_type": "execute_result",
          "data": {
            "text/plain": [
              "['cat', 'chicken', 'dog', 'moose']"
            ]
          },
          "metadata": {
            "tags": []
          },
          "execution_count": 3
        }
      ]
    },
    {
      "cell_type": "markdown",
      "metadata": {
        "id": "t-NkakQMkVK8"
      },
      "source": [
        "### Sorting the values in a list with the sort() method"
      ]
    },
    {
      "cell_type": "code",
      "metadata": {
        "id": "MDtdkutekMx_",
        "colab": {
          "base_uri": "https://localhost:8080/"
        },
        "outputId": "ed12350f-9680-43fe-f1e4-c40f545afa8d"
      },
      "source": [
        "spam = [2, 5, 3.14, 1, -7]\n",
        "spam.sort()\n",
        "spam"
      ],
      "execution_count": null,
      "outputs": [
        {
          "output_type": "execute_result",
          "data": {
            "text/plain": [
              "[-7, 1, 2, 3.14, 5]"
            ]
          },
          "metadata": {
            "tags": []
          },
          "execution_count": 4
        }
      ]
    },
    {
      "cell_type": "code",
      "metadata": {
        "id": "nmNdAA1Ckcas",
        "colab": {
          "base_uri": "https://localhost:8080/"
        },
        "outputId": "aec899eb-52f8-45e3-a417-771e5170e4e0"
      },
      "source": [
        "spam.sort(reverse=True)\n",
        "spam"
      ],
      "execution_count": null,
      "outputs": [
        {
          "output_type": "execute_result",
          "data": {
            "text/plain": [
              "[5, 3.14, 2, 1, -7]"
            ]
          },
          "metadata": {
            "tags": []
          },
          "execution_count": 5
        }
      ]
    },
    {
      "cell_type": "code",
      "metadata": {
        "id": "wtWZA2QTkjlP",
        "colab": {
          "base_uri": "https://localhost:8080/"
        },
        "outputId": "23656eb2-96fd-4ad4-cef8-a0d285133e5d"
      },
      "source": [
        "spam = ['ants', 'cats', 'dogs', 'badgers', 'elephants']\n",
        "spam.sort()\n",
        "spam"
      ],
      "execution_count": null,
      "outputs": [
        {
          "output_type": "execute_result",
          "data": {
            "text/plain": [
              "['ants', 'badgers', 'cats', 'dogs', 'elephants']"
            ]
          },
          "metadata": {
            "tags": []
          },
          "execution_count": 6
        }
      ]
    },
    {
      "cell_type": "code",
      "metadata": {
        "id": "eHnEydpCkqX2"
      },
      "source": [
        "spam.sort(reverse=True)"
      ],
      "execution_count": null,
      "outputs": []
    },
    {
      "cell_type": "code",
      "metadata": {
        "id": "9oUCZTjrktFe",
        "colab": {
          "base_uri": "https://localhost:8080/"
        },
        "outputId": "af2dfe82-2cc3-4f83-b4ae-38799da4adfb"
      },
      "source": [
        "spam = ['a', 'z', 'A', 'Z']\n",
        "spam.sort(key=str.lower)\n",
        "spam"
      ],
      "execution_count": null,
      "outputs": [
        {
          "output_type": "execute_result",
          "data": {
            "text/plain": [
              "['a', 'A', 'z', 'Z']"
            ]
          },
          "metadata": {
            "tags": []
          },
          "execution_count": 9
        }
      ]
    },
    {
      "cell_type": "code",
      "metadata": {
        "id": "sm5tyQiAlGT6",
        "colab": {
          "base_uri": "https://localhost:8080/"
        },
        "outputId": "0c46e71d-2731-44b4-dff8-da32107f37b6"
      },
      "source": [
        "spam = ['ants', 'cats', 'dogs', 'badgers', 'elephants']\n",
        "sorted(spam)"
      ],
      "execution_count": null,
      "outputs": [
        {
          "output_type": "execute_result",
          "data": {
            "text/plain": [
              "['ants', 'badgers', 'cats', 'dogs', 'elephants']"
            ]
          },
          "metadata": {
            "tags": []
          },
          "execution_count": 10
        }
      ]
    },
    {
      "cell_type": "markdown",
      "metadata": {
        "id": "at8DxPnP0IHC"
      },
      "source": [
        "# Tuples"
      ]
    },
    {
      "cell_type": "code",
      "metadata": {
        "id": "n5Mu9cHPlUoK",
        "colab": {
          "base_uri": "https://localhost:8080/",
          "height": 35
        },
        "outputId": "e227d7c4-76d6-4c50-eda0-897353dcca01"
      },
      "source": [
        "eggs = ('hello', 42, 0.5)\n",
        "eggs[0]"
      ],
      "execution_count": null,
      "outputs": [
        {
          "output_type": "execute_result",
          "data": {
            "application/vnd.google.colaboratory.intrinsic+json": {
              "type": "string"
            },
            "text/plain": [
              "'hello'"
            ]
          },
          "metadata": {
            "tags": []
          },
          "execution_count": 1
        }
      ]
    },
    {
      "cell_type": "code",
      "metadata": {
        "colab": {
          "base_uri": "https://localhost:8080/"
        },
        "id": "VudRvvtw0J8d",
        "outputId": "e86801bc-dbf3-4547-a28c-f60eefad4f83"
      },
      "source": [
        "eggs[1:3]"
      ],
      "execution_count": null,
      "outputs": [
        {
          "output_type": "execute_result",
          "data": {
            "text/plain": [
              "(42, 0.5)"
            ]
          },
          "metadata": {
            "tags": []
          },
          "execution_count": 2
        }
      ]
    },
    {
      "cell_type": "code",
      "metadata": {
        "colab": {
          "base_uri": "https://localhost:8080/"
        },
        "id": "01xsppia0LY2",
        "outputId": "b98fb8d3-3957-4d29-f0f4-759797de3d6b"
      },
      "source": [
        "len(eggs)"
      ],
      "execution_count": null,
      "outputs": [
        {
          "output_type": "execute_result",
          "data": {
            "text/plain": [
              "3"
            ]
          },
          "metadata": {
            "tags": []
          },
          "execution_count": 3
        }
      ]
    },
    {
      "cell_type": "markdown",
      "metadata": {
        "id": "G319xfZK0Nfv"
      },
      "source": [
        "### Converting Types with the list() and tuple() functions"
      ]
    },
    {
      "cell_type": "code",
      "metadata": {
        "colab": {
          "base_uri": "https://localhost:8080/"
        },
        "id": "Z3f_4-lP0MHc",
        "outputId": "0c4b8e32-3c06-4273-f607-bf70e44ac479"
      },
      "source": [
        "tuple(['cat', 'dog', 5])"
      ],
      "execution_count": null,
      "outputs": [
        {
          "output_type": "execute_result",
          "data": {
            "text/plain": [
              "('cat', 'dog', 5)"
            ]
          },
          "metadata": {
            "tags": []
          },
          "execution_count": 4
        }
      ]
    },
    {
      "cell_type": "code",
      "metadata": {
        "colab": {
          "base_uri": "https://localhost:8080/"
        },
        "id": "fN88D2c00PU_",
        "outputId": "5d95d0dc-08f7-4991-cb7d-e0a6c88386eb"
      },
      "source": [
        "list(('cat', 'dog', 5))"
      ],
      "execution_count": null,
      "outputs": [
        {
          "output_type": "execute_result",
          "data": {
            "text/plain": [
              "['cat', 'dog', 5]"
            ]
          },
          "metadata": {
            "tags": []
          },
          "execution_count": 5
        }
      ]
    },
    {
      "cell_type": "code",
      "metadata": {
        "colab": {
          "base_uri": "https://localhost:8080/"
        },
        "id": "K1bjeJBf0QB-",
        "outputId": "61815f85-d6d1-48fc-8572-f562149e8ecf"
      },
      "source": [
        "list('hello')"
      ],
      "execution_count": null,
      "outputs": [
        {
          "output_type": "execute_result",
          "data": {
            "text/plain": [
              "['h', 'e', 'l', 'l', 'o']"
            ]
          },
          "metadata": {
            "tags": []
          },
          "execution_count": 6
        }
      ]
    },
    {
      "cell_type": "markdown",
      "metadata": {
        "id": "w5Mczvrp0Ru2"
      },
      "source": [
        "# Dictionaries and structuring data"
      ]
    },
    {
      "cell_type": "code",
      "metadata": {
        "id": "KR-ztmiV0Q9k"
      },
      "source": [
        "myCat = {'size':'fat', 'color':'gray', 'disposition':'loud'}"
      ],
      "execution_count": null,
      "outputs": []
    },
    {
      "cell_type": "markdown",
      "metadata": {
        "id": "et_vwDLc1cOk"
      },
      "source": [
        "### The keys(), values(), and items() methods"
      ]
    },
    {
      "cell_type": "code",
      "metadata": {
        "colab": {
          "base_uri": "https://localhost:8080/"
        },
        "id": "EFB1s7RV1Yba",
        "outputId": "353c27e2-b2d3-4cbf-dfd0-31c2c1d9d2ac"
      },
      "source": [
        "# values \n",
        "spam = {'color': 'red', 'age': 42}\n",
        "for v in spam.values():\n",
        "  print(v)"
      ],
      "execution_count": null,
      "outputs": [
        {
          "output_type": "stream",
          "text": [
            "red\n",
            "42\n"
          ],
          "name": "stdout"
        }
      ]
    },
    {
      "cell_type": "code",
      "metadata": {
        "colab": {
          "base_uri": "https://localhost:8080/"
        },
        "id": "CMxm1pOT4ZFX",
        "outputId": "ea10b120-a56a-4168-bcab-7847a470baad"
      },
      "source": [
        "# keys\n",
        "for k in spam.keys():\n",
        "  print(k)"
      ],
      "execution_count": null,
      "outputs": [
        {
          "output_type": "stream",
          "text": [
            "color\n",
            "age\n"
          ],
          "name": "stdout"
        }
      ]
    },
    {
      "cell_type": "code",
      "metadata": {
        "colab": {
          "base_uri": "https://localhost:8080/"
        },
        "id": "1f9HKxOZ4_3b",
        "outputId": "2397dd41-be4a-4ecf-af4f-3c0ca40c8ee3"
      },
      "source": [
        "# items\n",
        "for i in spam.items():\n",
        "  print(i)"
      ],
      "execution_count": null,
      "outputs": [
        {
          "output_type": "stream",
          "text": [
            "('color', 'red')\n",
            "('age', 42)\n"
          ],
          "name": "stdout"
        }
      ]
    },
    {
      "cell_type": "code",
      "metadata": {
        "colab": {
          "base_uri": "https://localhost:8080/"
        },
        "id": "uCIS8wlm5B7o",
        "outputId": "09156fb8-c155-49b4-f9e6-c0ccf6f34eaf"
      },
      "source": [
        "for k, v in spam.items():\n",
        "  print('Key: {}, Value: {}'.format(k,v))"
      ],
      "execution_count": null,
      "outputs": [
        {
          "output_type": "stream",
          "text": [
            "Key: color, Value: red\n",
            "Key: age, Value: 42\n"
          ],
          "name": "stdout"
        }
      ]
    },
    {
      "cell_type": "markdown",
      "metadata": {
        "id": "cGaq8jTm5Ew8"
      },
      "source": [
        "### Cheacking wheter a key or value exists in a dictionary"
      ]
    },
    {
      "cell_type": "code",
      "metadata": {
        "id": "9EzuZPWi5DGg"
      },
      "source": [
        "spam = {'name': 'Zophie', 'age': 7}"
      ],
      "execution_count": null,
      "outputs": []
    },
    {
      "cell_type": "code",
      "metadata": {
        "colab": {
          "base_uri": "https://localhost:8080/"
        },
        "id": "-gfNQecO5Hmz",
        "outputId": "69c6e6e6-bc50-4df7-9c90-eb3f378c2a09"
      },
      "source": [
        "'name' in spam.keys()"
      ],
      "execution_count": null,
      "outputs": [
        {
          "output_type": "execute_result",
          "data": {
            "text/plain": [
              "True"
            ]
          },
          "metadata": {
            "tags": []
          },
          "execution_count": 14
        }
      ]
    },
    {
      "cell_type": "code",
      "metadata": {
        "colab": {
          "base_uri": "https://localhost:8080/"
        },
        "id": "UhPXD0LF5ItX",
        "outputId": "778815a1-c495-4c0b-f46b-047c265d552a"
      },
      "source": [
        "'Zophie' in spam.values()"
      ],
      "execution_count": null,
      "outputs": [
        {
          "output_type": "execute_result",
          "data": {
            "text/plain": [
              "True"
            ]
          },
          "metadata": {
            "tags": []
          },
          "execution_count": 15
        }
      ]
    },
    {
      "cell_type": "code",
      "metadata": {
        "colab": {
          "base_uri": "https://localhost:8080/"
        },
        "id": "AdJ0rjPQ5KK3",
        "outputId": "21649d90-826c-41fc-b25e-3010f4addb9e"
      },
      "source": [
        "'color' in spam"
      ],
      "execution_count": null,
      "outputs": [
        {
          "output_type": "execute_result",
          "data": {
            "text/plain": [
              "False"
            ]
          },
          "metadata": {
            "tags": []
          },
          "execution_count": 16
        }
      ]
    },
    {
      "cell_type": "code",
      "metadata": {
        "colab": {
          "base_uri": "https://localhost:8080/"
        },
        "id": "sh1H1CZA5Led",
        "outputId": "4202cd93-b892-477d-ff87-c191c6ff29a3"
      },
      "source": [
        "'age' in spam"
      ],
      "execution_count": null,
      "outputs": [
        {
          "output_type": "execute_result",
          "data": {
            "text/plain": [
              "True"
            ]
          },
          "metadata": {
            "tags": []
          },
          "execution_count": 17
        }
      ]
    },
    {
      "cell_type": "markdown",
      "metadata": {
        "id": "FYVb-pt-5WkO"
      },
      "source": [
        "### The get() method"
      ]
    },
    {
      "cell_type": "code",
      "metadata": {
        "id": "sBWy6j345Mc8"
      },
      "source": [
        "picnic_items = {'apples': 5, 'cups': 2}"
      ],
      "execution_count": null,
      "outputs": []
    },
    {
      "cell_type": "code",
      "metadata": {
        "id": "4ry5321D5h5u"
      },
      "source": [
        "'I am bringing {} cups.'.format(str(picnic_items.get('cups')))"
      ],
      "execution_count": null,
      "outputs": []
    },
    {
      "cell_type": "markdown",
      "metadata": {
        "id": "NFrYxPoXFl1K"
      },
      "source": [
        "### The setdefault() method"
      ]
    },
    {
      "cell_type": "code",
      "metadata": {
        "id": "cKHrpBIDFobg"
      },
      "source": [
        "spam = {'name': 'Pooka', 'age': 5}"
      ],
      "execution_count": null,
      "outputs": []
    },
    {
      "cell_type": "code",
      "metadata": {
        "colab": {
          "base_uri": "https://localhost:8080/",
          "height": 35
        },
        "id": "2GaFXWqQF-2Y",
        "outputId": "adf9ab1d-0e2b-473b-fc12-3810265d4c96"
      },
      "source": [
        "spam.setdefault('color', 'black')"
      ],
      "execution_count": null,
      "outputs": [
        {
          "output_type": "execute_result",
          "data": {
            "application/vnd.google.colaboratory.intrinsic+json": {
              "type": "string"
            },
            "text/plain": [
              "'black'"
            ]
          },
          "metadata": {
            "tags": []
          },
          "execution_count": 20
        }
      ]
    },
    {
      "cell_type": "code",
      "metadata": {
        "colab": {
          "base_uri": "https://localhost:8080/"
        },
        "id": "ADC_8ZpiGDob",
        "outputId": "a0de581b-2037-4843-cce9-5dbee7facac8"
      },
      "source": [
        "spam"
      ],
      "execution_count": null,
      "outputs": [
        {
          "output_type": "execute_result",
          "data": {
            "text/plain": [
              "{'age': 5, 'color': 'black', 'name': 'Pooka'}"
            ]
          },
          "metadata": {
            "tags": []
          },
          "execution_count": 21
        }
      ]
    },
    {
      "cell_type": "markdown",
      "metadata": {
        "id": "bzQr0k_MG8iF"
      },
      "source": [
        "### Merge two dictionaries"
      ]
    },
    {
      "cell_type": "code",
      "metadata": {
        "id": "o6lLrydnGEgr"
      },
      "source": [
        "x = {'a': 1, 'b': 2}"
      ],
      "execution_count": null,
      "outputs": []
    },
    {
      "cell_type": "code",
      "metadata": {
        "id": "iH5rVhaHIvkJ"
      },
      "source": [
        "y = {'b': 3, 'c': 4}"
      ],
      "execution_count": null,
      "outputs": []
    },
    {
      "cell_type": "code",
      "metadata": {
        "id": "5S6iJC-VIwyP"
      },
      "source": [
        "z = {**x, **y}"
      ],
      "execution_count": null,
      "outputs": []
    },
    {
      "cell_type": "code",
      "metadata": {
        "id": "2U6RXIfAIx3y",
        "colab": {
          "base_uri": "https://localhost:8080/"
        },
        "outputId": "d3f86345-2a59-4112-c609-cb6f9faddb19"
      },
      "source": [
        "z"
      ],
      "execution_count": null,
      "outputs": [
        {
          "output_type": "execute_result",
          "data": {
            "text/plain": [
              "{'a': 1, 'b': 3, 'c': 4}"
            ]
          },
          "metadata": {
            "tags": []
          },
          "execution_count": 25
        }
      ]
    },
    {
      "cell_type": "code",
      "metadata": {
        "id": "qrWuGQiMIyud"
      },
      "source": [
        "z = dict(x, **y)"
      ],
      "execution_count": null,
      "outputs": []
    },
    {
      "cell_type": "code",
      "metadata": {
        "id": "AaS42GTII0DW",
        "colab": {
          "base_uri": "https://localhost:8080/"
        },
        "outputId": "6ae3134f-a1d3-44be-ce98-2a647358944d"
      },
      "source": [
        "z"
      ],
      "execution_count": null,
      "outputs": [
        {
          "output_type": "execute_result",
          "data": {
            "text/plain": [
              "{'a': 1, 'b': 3, 'c': 4}"
            ]
          },
          "metadata": {
            "tags": []
          },
          "execution_count": 27
        }
      ]
    },
    {
      "cell_type": "markdown",
      "metadata": {
        "id": "BACzJhVQ8HmF"
      },
      "source": [
        "# Sets"
      ]
    },
    {
      "cell_type": "markdown",
      "metadata": {
        "id": "-5WeXsOA82_n"
      },
      "source": [
        "## Initializing a set"
      ]
    },
    {
      "cell_type": "markdown",
      "metadata": {
        "id": "6SC9MyNi8hxR"
      },
      "source": [
        "Two ways to create sets:"
      ]
    },
    {
      "cell_type": "code",
      "metadata": {
        "id": "3YXTzBDzI0uF"
      },
      "source": [
        "# with {}\n",
        "s = {1, 2, 3}"
      ],
      "execution_count": 1,
      "outputs": []
    },
    {
      "cell_type": "code",
      "metadata": {
        "id": "Q8L4-BZM8ZCH"
      },
      "source": [
        "# built-in function\n",
        "s = set([1, 2, 3])"
      ],
      "execution_count": 2,
      "outputs": []
    },
    {
      "cell_type": "markdown",
      "metadata": {
        "id": "rH7eIzqm9BnB"
      },
      "source": [
        "## sets: unordered collections of unique elements\n",
        "A set automatically remove all the duplicate values"
      ]
    },
    {
      "cell_type": "code",
      "metadata": {
        "colab": {
          "base_uri": "https://localhost:8080/"
        },
        "id": "e7te1yv48g-9",
        "outputId": "6ac51219-6a9b-434f-8ce1-d74061ca55c1"
      },
      "source": [
        "s = {1, 2, 3, 2, 3, 4}\n",
        "s"
      ],
      "execution_count": 3,
      "outputs": [
        {
          "output_type": "execute_result",
          "data": {
            "text/plain": [
              "{1, 2, 3, 4}"
            ]
          },
          "metadata": {
            "tags": []
          },
          "execution_count": 3
        }
      ]
    },
    {
      "cell_type": "code",
      "metadata": {
        "colab": {
          "base_uri": "https://localhost:8080/",
          "height": 167
        },
        "id": "3uQgAogkAGSY",
        "outputId": "0d64ef22-3d6b-419e-ca84-3b0af997e39a"
      },
      "source": [
        "s[0]"
      ],
      "execution_count": 4,
      "outputs": [
        {
          "output_type": "error",
          "ename": "TypeError",
          "evalue": "ignored",
          "traceback": [
            "\u001b[0;31m---------------------------------------------------------------------------\u001b[0m",
            "\u001b[0;31mTypeError\u001b[0m                                 Traceback (most recent call last)",
            "\u001b[0;32m<ipython-input-4-c9c96910e542>\u001b[0m in \u001b[0;36m<module>\u001b[0;34m()\u001b[0m\n\u001b[0;32m----> 1\u001b[0;31m \u001b[0ms\u001b[0m\u001b[0;34m[\u001b[0m\u001b[0;36m0\u001b[0m\u001b[0;34m]\u001b[0m\u001b[0;34m\u001b[0m\u001b[0;34m\u001b[0m\u001b[0m\n\u001b[0m",
            "\u001b[0;31mTypeError\u001b[0m: 'set' object is not subscriptable"
          ]
        }
      ]
    },
    {
      "cell_type": "markdown",
      "metadata": {
        "id": "4jEnlyE2ATZB"
      },
      "source": [
        "## set add() and update()\n",
        "The add() method can add a single element to the set"
      ]
    },
    {
      "cell_type": "code",
      "metadata": {
        "colab": {
          "base_uri": "https://localhost:8080/"
        },
        "id": "odIfrYpmARUS",
        "outputId": "56c09076-82d8-435a-d795-cb3034f717eb"
      },
      "source": [
        "s = {1, 2, 3}\n",
        "s.add(4)\n",
        "s"
      ],
      "execution_count": 5,
      "outputs": [
        {
          "output_type": "execute_result",
          "data": {
            "text/plain": [
              "{1, 2, 3, 4}"
            ]
          },
          "metadata": {
            "tags": []
          },
          "execution_count": 5
        }
      ]
    },
    {
      "cell_type": "markdown",
      "metadata": {
        "id": "On6awkQmAhp3"
      },
      "source": [
        "And with update(), multiple ones"
      ]
    },
    {
      "cell_type": "code",
      "metadata": {
        "colab": {
          "base_uri": "https://localhost:8080/"
        },
        "id": "j9XXveTvAfw7",
        "outputId": "cd4522a9-6286-4b2a-fc9b-1ae1a938da75"
      },
      "source": [
        "s = {1, 2, 3}\n",
        "s.update([2,3,4,5,6])\n",
        "s"
      ],
      "execution_count": 6,
      "outputs": [
        {
          "output_type": "execute_result",
          "data": {
            "text/plain": [
              "{1, 2, 3, 4, 5, 6}"
            ]
          },
          "metadata": {
            "tags": []
          },
          "execution_count": 6
        }
      ]
    },
    {
      "cell_type": "markdown",
      "metadata": {
        "id": "ssYSKK1pA0BQ"
      },
      "source": [
        "## set remove() and discard()\n",
        "Both methods will remove an element from the set, but remove() will raise a key error if the value doesn't exist"
      ]
    },
    {
      "cell_type": "code",
      "metadata": {
        "colab": {
          "base_uri": "https://localhost:8080/"
        },
        "id": "tvVPO5zNAqe5",
        "outputId": "e7867bd0-6c22-4d87-8853-35dadcbc95de"
      },
      "source": [
        "s = {1, 2, 3}\n",
        "s.remove(3)\n",
        "s"
      ],
      "execution_count": 7,
      "outputs": [
        {
          "output_type": "execute_result",
          "data": {
            "text/plain": [
              "{1, 2}"
            ]
          },
          "metadata": {
            "tags": []
          },
          "execution_count": 7
        }
      ]
    },
    {
      "cell_type": "code",
      "metadata": {
        "id": "VSnx0QnGBDKn",
        "outputId": "231ba40a-9a95-4847-a1fd-574958419b2b",
        "colab": {
          "base_uri": "https://localhost:8080/",
          "height": 167
        }
      },
      "source": [
        "s.remove(3)"
      ],
      "execution_count": 8,
      "outputs": [
        {
          "output_type": "error",
          "ename": "KeyError",
          "evalue": "ignored",
          "traceback": [
            "\u001b[0;31m---------------------------------------------------------------------------\u001b[0m",
            "\u001b[0;31mKeyError\u001b[0m                                  Traceback (most recent call last)",
            "\u001b[0;32m<ipython-input-8-b06e0f5ff900>\u001b[0m in \u001b[0;36m<module>\u001b[0;34m()\u001b[0m\n\u001b[0;32m----> 1\u001b[0;31m \u001b[0ms\u001b[0m\u001b[0;34m.\u001b[0m\u001b[0mremove\u001b[0m\u001b[0;34m(\u001b[0m\u001b[0;36m3\u001b[0m\u001b[0;34m)\u001b[0m\u001b[0;34m\u001b[0m\u001b[0;34m\u001b[0m\u001b[0m\n\u001b[0m",
            "\u001b[0;31mKeyError\u001b[0m: 3"
          ]
        }
      ]
    },
    {
      "cell_type": "markdown",
      "metadata": {
        "id": "HHMqp0EJBFeb"
      },
      "source": [
        "`discard()` wont' raise any errors"
      ]
    },
    {
      "cell_type": "code",
      "metadata": {
        "id": "I-HJ3zpTBEne",
        "outputId": "37f12e8c-aa99-43a3-bf4e-e1596cfafbe9",
        "colab": {
          "base_uri": "https://localhost:8080/"
        }
      },
      "source": [
        "s = {1, 2, 3}\n",
        "s.discard(3)\n",
        "s"
      ],
      "execution_count": 9,
      "outputs": [
        {
          "output_type": "execute_result",
          "data": {
            "text/plain": [
              "{1, 2}"
            ]
          },
          "metadata": {
            "tags": []
          },
          "execution_count": 9
        }
      ]
    },
    {
      "cell_type": "code",
      "metadata": {
        "id": "IXYRbsUyBNUv"
      },
      "source": [
        "s.discard(3)"
      ],
      "execution_count": 10,
      "outputs": []
    },
    {
      "cell_type": "code",
      "metadata": {
        "id": "aZiz8l40BO4N"
      },
      "source": [
        ""
      ],
      "execution_count": null,
      "outputs": []
    }
  ]
}