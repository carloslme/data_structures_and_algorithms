{
  "nbformat": 4,
  "nbformat_minor": 0,
  "metadata": {
    "colab": {
      "name": "prep_exam_python",
      "provenance": [],
      "authorship_tag": "ABX9TyMJSUm+uq1FzvmyMSWNzH04",
      "include_colab_link": true
    },
    "kernelspec": {
      "name": "python3",
      "display_name": "Python 3"
    },
    "language_info": {
      "name": "python"
    }
  },
  "cells": [
    {
      "cell_type": "markdown",
      "metadata": {
        "id": "view-in-github",
        "colab_type": "text"
      },
      "source": [
        "<a href=\"https://colab.research.google.com/github/carloslme/data_structures_and_algorithms/blob/main/prep_exam_python.ipynb\" target=\"_parent\"><img src=\"https://colab.research.google.com/assets/colab-badge.svg\" alt=\"Open In Colab\"/></a>"
      ]
    },
    {
      "cell_type": "markdown",
      "metadata": {
        "id": "KY5WmVeP87h3"
      },
      "source": [
        "# Topics to cover for Python\n",
        "\n",
        "* Flow Control\n",
        "* Functions\n",
        "* Exception Handling\n",
        "* Lists\n",
        "* Dictionaries and Structuring Sata\n",
        "* Sets\n",
        "* Comprehensions\n",
        "* Iterables\n",
        "* Manipulating Strings\n",
        "* String Formatting\n",
        "\n",
        "* Closures\n",
        "* Decorators\n",
        "* Generators"
      ]
    },
    {
      "cell_type": "code",
      "metadata": {
        "id": "RqmQ9Q7Y8NA7"
      },
      "source": [
        ""
      ],
      "execution_count": null,
      "outputs": []
    }
  ]
}