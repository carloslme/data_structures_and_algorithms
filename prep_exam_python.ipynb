{
  "nbformat": 4,
  "nbformat_minor": 0,
  "metadata": {
    "colab": {
      "name": "prep_exam_python",
      "provenance": [],
      "authorship_tag": "ABX9TyMBTVhY5snKjpnhq8cEWL10",
      "include_colab_link": true
    },
    "kernelspec": {
      "name": "python3",
      "display_name": "Python 3"
    },
    "language_info": {
      "name": "python"
    }
  },
  "cells": [
    {
      "cell_type": "markdown",
      "metadata": {
        "id": "view-in-github",
        "colab_type": "text"
      },
      "source": [
        "<a href=\"https://colab.research.google.com/github/carloslme/data_structures_and_algorithms/blob/main/prep_exam_python.ipynb\" target=\"_parent\"><img src=\"https://colab.research.google.com/assets/colab-badge.svg\" alt=\"Open In Colab\"/></a>"
      ]
    },
    {
      "cell_type": "markdown",
      "metadata": {
        "id": "KY5WmVeP87h3"
      },
      "source": [
        "# Topics to cover for Python\n",
        "\n",
        "* Flow Control\n",
        "* Functions\n",
        "* Exception Handling\n",
        "* Lists\n",
        "* Dictionaries and Structuring Sata\n",
        "* Sets\n",
        "* Comprehensions\n",
        "* Iterables\n",
        "* Manipulating Strings\n",
        "* String Formatting\n",
        "\n",
        "* Closures\n",
        "* Decorators\n",
        "* Generators\n",
        "* Maps\n"
      ]
    },
    {
      "cell_type": "markdown",
      "metadata": {
        "id": "tOxM0Lgbmye0"
      },
      "source": [
        "## Maps\n",
        "map() functions returns a map object(which is an iterator) of the results after applying the given function to each item of a given iterable (list, tuple, etc.)"
      ]
    },
    {
      "cell_type": "code",
      "metadata": {
        "id": "RqmQ9Q7Y8NA7",
        "outputId": "ec6d76d4-a538-4362-cf85-4be27773fba1",
        "colab": {
          "base_uri": "https://localhost:8080/"
        }
      },
      "source": [
        "def addition(n):\n",
        "  return n+n\n",
        "\n",
        "numbers = (1,2,3,4)\n",
        "result = map(addition, numbers)\n",
        "print(list(result))"
      ],
      "execution_count": 1,
      "outputs": [
        {
          "output_type": "stream",
          "text": [
            "[2, 4, 6, 8]\n"
          ],
          "name": "stdout"
        }
      ]
    },
    {
      "cell_type": "code",
      "metadata": {
        "id": "C6EAfFism_vo",
        "outputId": "d19b06d6-901e-4be3-b919-5801c31ea1ff",
        "colab": {
          "base_uri": "https://localhost:8080/"
        }
      },
      "source": [
        "l = ['sat', 'bat', 'cat', 'mat']\n",
        "\n",
        "test = list(map(list, l))\n",
        "print(test)"
      ],
      "execution_count": 2,
      "outputs": [
        {
          "output_type": "stream",
          "text": [
            "[['s', 'a', 't'], ['b', 'a', 't'], ['c', 'a', 't'], ['m', 'a', 't']]\n"
          ],
          "name": "stdout"
        }
      ]
    },
    {
      "cell_type": "code",
      "metadata": {
        "id": "eqHKBnbopmu7"
      },
      "source": [
        ""
      ],
      "execution_count": null,
      "outputs": []
    }
  ]
}