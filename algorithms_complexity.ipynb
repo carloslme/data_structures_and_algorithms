{
  "nbformat": 4,
  "nbformat_minor": 0,
  "metadata": {
    "colab": {
      "name": "algorithms-complexity.ipynb",
      "provenance": [],
      "authorship_tag": "ABX9TyNkDYiFsGs4qeKAxDHliG22",
      "include_colab_link": true
    },
    "kernelspec": {
      "name": "python3",
      "display_name": "Python 3"
    },
    "language_info": {
      "name": "python"
    }
  },
  "cells": [
    {
      "cell_type": "markdown",
      "metadata": {
        "id": "view-in-github",
        "colab_type": "text"
      },
      "source": [
        "<a href=\"https://colab.research.google.com/github/carloslme/data_structures_and_algorithms/blob/main/algorithms_complexity.ipynb\" target=\"_parent\"><img src=\"https://colab.research.google.com/assets/colab-badge.svg\" alt=\"Open In Colab\"/></a>"
      ]
    },
    {
      "cell_type": "markdown",
      "metadata": {
        "id": "mleEW7gq__5Z"
      },
      "source": [
        "# Introduction\n",
        "Big-O notation is a metrics used to find algorithm complexity. Basically, Big-O notation signifies the relationship between the input to the algorithm and the steps required to execute the algorithm. It is denoted by a big \"O\" followed by opening and closing parenthesis. Inside the parenthesis, the relationship between the input and the steps taken by the algorithm is presented using \"n\".\n"
      ]
    },
    {
      "cell_type": "markdown",
      "metadata": {
        "id": "Vpa1vnpFAHUM"
      },
      "source": [
        "\n",
        "|Name\t| Big O |\n",
        "|-----|-------|\n",
        "| Constant |\tO(c) |\n",
        "|Linear\t| O(n)|\n",
        "|Quadratic\t| O(n^2)|\n",
        "|Cubic\t| O(n^3)|\n",
        "|Exponential\t| O(2^n)|\n",
        "|Logarithmic\t| O(log(n))|\n",
        "|Log Linear\t| O(nlog(n))|"
      ]
    },
    {
      "cell_type": "markdown",
      "metadata": {
        "id": "7jzyiEEcBepE"
      },
      "source": [
        "# Constant Complexity $O(C)$\n",
        "The complexity of an algorithm is said to be constant if the steps required to complete the execution of an algorithm remain constant, irrespective of the number of inputs. The constant complexity is denoted by O(c) where c can be any constant number."
      ]
    },
    {
      "cell_type": "code",
      "metadata": {
        "id": "Hx3K1Cwf_3ME",
        "colab": {
          "base_uri": "https://localhost:8080/"
        },
        "outputId": "0cf9c031-5bc1-4959-9a7d-534efeea0a74"
      },
      "source": [
        "def constant_algo(items):\n",
        "  result = items[0] * items[0]\n",
        "  print(result)\n",
        "\n",
        "constant_algo([4,5,6,8])"
      ],
      "execution_count": 2,
      "outputs": [
        {
          "output_type": "stream",
          "name": "stdout",
          "text": [
            "16\n"
          ]
        }
      ]
    },
    {
      "cell_type": "markdown",
      "metadata": {
        "id": "3obplu9nCbpg"
      },
      "source": [
        "In the above script, irrespective of the input size, or the number of items in the input list `items`, the algorithm performs only 2 steps: \n",
        "* Finding the square of the first element and \n",
        "* Printing the result on the screen. \n",
        "\n",
        "Hence, the complexity remains constant."
      ]
    },
    {
      "cell_type": "code",
      "metadata": {
        "colab": {
          "base_uri": "https://localhost:8080/",
          "height": 295
        },
        "id": "KYlMKUO8BxJj",
        "outputId": "719b3212-5658-4bdb-e318-da1a302280db"
      },
      "source": [
        "import matplotlib.pyplot as plt\n",
        "\n",
        "x = [2, 4, 6, 8, 10, 12]\n",
        "\n",
        "y = [2, 2, 2, 2, 2, 2]\n",
        "\n",
        "plt.plot(x, y, 'b')\n",
        "plt.xlabel('Inputs')\n",
        "plt.ylabel('Steps')\n",
        "plt.title('Constant Complexity')\n",
        "plt.show()"
      ],
      "execution_count": 6,
      "outputs": [
        {
          "output_type": "display_data",
          "data": {
            "image/png": "[encoded data removed]",
            "text/plain": [
              "<Figure size 432x288 with 1 Axes>"
            ]
          },
          "metadata": {
            "needs_background": "light"
          }
        }
      ]
    },
    {
      "cell_type": "markdown",
      "metadata": {
        "id": "CtH02k8eDYLK"
      },
      "source": [
        "#Linear Complexity $O(n)$\n",
        "The complexity of an algorithm is said to be linear if the steps required to complete the execution of an algorithm increase or decrease linearly with the number of inputs. Linear complexity is denoted by $O(n)$."
      ]
    },
    {
      "cell_type": "code",
      "metadata": {
        "colab": {
          "base_uri": "https://localhost:8080/"
        },
        "id": "NQ2h8FU4DIOE",
        "outputId": "da6e8727-bf29-4429-92e3-1682e92e51b0"
      },
      "source": [
        "def linear_algo(items):\n",
        "  #result = items[0] * items[0]\n",
        "  result = [x*x for x in items]\n",
        "  print(result)\n",
        "\n",
        "linear_algo([4,5,6,8])"
      ],
      "execution_count": 8,
      "outputs": [
        {
          "output_type": "stream",
          "name": "stdout",
          "text": [
            "[16, 25, 36, 64]\n"
          ]
        }
      ]
    },
    {
      "cell_type": "markdown",
      "metadata": {
        "id": "-u4xSqfQEB0v"
      },
      "source": [
        "The complexity of the `linear_algo` function is linear in the above example since the number of iterations of the for-loop will be equal to the size of the input `items` array. For instance, if there are 4 items in the `items` list, the for-loop will be executed 4 times, and so on."
      ]
    },
    {
      "cell_type": "code",
      "metadata": {
        "id": "mHJqHI4jD4XU",
        "outputId": "dcdb6b74-a881-4e60-ca63-b6e22da11cd8",
        "colab": {
          "base_uri": "https://localhost:8080/",
          "height": 295
        }
      },
      "source": [
        "import matplotlib.pyplot as plt\n",
        "\n",
        "x = [2, 4, 6, 8, 10, 12]\n",
        "y = [2, 4, 6, 8, 10, 12]\n",
        "\n",
        "plt.plot(x, y, 'b')\n",
        "plt.xlabel('Inputs')\n",
        "plt.ylabel('Steps')\n",
        "plt.title('Linear Complexity')\n",
        "plt.show()"
      ],
      "execution_count": 9,
      "outputs": [
        {
          "output_type": "display_data",
          "data": {
            "image/png": "[encoded data removed]",
            "text/plain": [
              "<Figure size 432x288 with 1 Axes>"
            ]
          },
          "metadata": {
            "needs_background": "light"
          }
        }
      ]
    },
    {
      "cell_type": "code",
      "metadata": {
        "id": "8iUri4snEWZf"
      },
      "source": [
        ""
      ],
      "execution_count": null,
      "outputs": []
    }
  ]
}