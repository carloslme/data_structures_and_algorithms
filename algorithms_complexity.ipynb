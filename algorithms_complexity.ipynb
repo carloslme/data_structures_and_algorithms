{
  "nbformat": 4,
  "nbformat_minor": 0,
  "metadata": {
    "colab": {
      "name": "algorithms-complexity.ipynb",
      "provenance": [],
      "authorship_tag": "ABX9TyNNu+pHZaoqzE6tigfn/K6x",
      "include_colab_link": true
    },
    "kernelspec": {
      "name": "python3",
      "display_name": "Python 3"
    },
    "language_info": {
      "name": "python"
    }
  },
  "cells": [
    {
      "cell_type": "markdown",
      "metadata": {
        "id": "view-in-github",
        "colab_type": "text"
      },
      "source": [
        "<a href=\"https://colab.research.google.com/github/carloslme/data_structures_and_algorithms/blob/main/algorithms_complexity.ipynb\" target=\"_parent\"><img src=\"https://colab.research.google.com/assets/colab-badge.svg\" alt=\"Open In Colab\"/></a>"
      ]
    },
    {
      "cell_type": "markdown",
      "metadata": {
        "id": "mleEW7gq__5Z"
      },
      "source": [
        "# Introduction\n",
        "Big-O notation is a metrics used to find algorithm complexity. Basically, Big-O notation signifies the relationship between the input to the algorithm and the steps required to execute the algorithm. It is denoted by a big \"O\" followed by opening and closing parenthesis. Inside the parenthesis, the relationship between the input and the steps taken by the algorithm is presented using \"n\".\n"
      ]
    },
    {
      "cell_type": "markdown",
      "metadata": {
        "id": "Vpa1vnpFAHUM"
      },
      "source": [
        "\n",
        "|Name\t| Big O |\n",
        "|-----|-------|\n",
        "| Constant |\tO(c) |\n",
        "|Linear\t| O(n)|\n",
        "|Quadratic\t| O(n^2)|\n",
        "|Cubic\t| O(n^3)|\n",
        "|Exponential\t| O(2^n)|\n",
        "|Logarithmic\t| O(log(n))|\n",
        "|Log Linear\t| O(nlog(n))|"
      ]
    },
    {
      "cell_type": "code",
      "metadata": {
        "id": "Hx3K1Cwf_3ME"
      },
      "source": [
        ""
      ],
      "execution_count": null,
      "outputs": []
    }
  ]
}